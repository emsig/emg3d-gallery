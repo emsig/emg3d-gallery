{
  "cells": [
    {
      "cell_type": "code",
      "execution_count": null,
      "metadata": {
        "collapsed": false
      },
      "outputs": [],
      "source": [
        "%matplotlib widget"
      ]
    },
    {
      "cell_type": "markdown",
      "metadata": {},
      "source": [
        "\n# 01. Minimum working example\n\nThis is a simple minimum working example to use the multigrid solver `emg3d`,\nalong the lines of the one provided in the manual as [\"Basic Example\"](https://emg3d.emsig.xyz/en/stable/manual/usage.html). To see some\nmore realistic computations have a look at the other examples in this gallery.\nIn particularly at `sphx_glr_gallery_tutorials_simulation.py` to see how\nto use `emg3d` for a complex survey with many sources and frequencies.\n\nAn absolutely minimal example, which only requires ``emg3d`` (with its hard\ndependencies ``numba`` and ``scipy``), is given here:\n\n```python\n# ======================================================================= #\n\nimport emg3d\nimport numpy as np\n\n# Create a simple grid, 64x64x64 cell, 100x100x100 m each.\nhx = np.ones(64)*100\ngrid = emg3d.TensorMesh(h=[hx, hx, hx], origin=(-3200, -3200, -3200))\n\n# Fullspace model with tri-axial resistivities (Ohm.m).\nmodel = emg3d.Model(grid=grid, property_x=1.5, property_y=1.8,\n                    property_z=3.3, mapping='Resistivity')\n\n# The source is an x-directed, horizontal dipole at the origin.\nsource = emg3d.TxElectricDipole(coordinates=(4, 4, 4, 0, 0))\n\n# Compute the electric signal for frequency = 10 Hz.\nefield = emg3d.solve_source(model, source, frequency=10, verb=4)\n\n# ======================================================================= #\n```\nHowever, above example is probably most useful on a server environment, where\nyou only want to solve the system, without any interaction. The example that\nfollows uses advanced tools of gridding including plotting, for which you need\nto install additionally the packages ``discretize`` and ``matplotlib``. Let's\nstart by loading the required modules:\n"
      ]
    },
    {
      "cell_type": "code",
      "execution_count": null,
      "metadata": {
        "collapsed": false
      },
      "outputs": [],
      "source": [
        "import emg3d\nimport numpy as np\nimport matplotlib.pyplot as plt\nfrom matplotlib.colors import LogNorm\nplt.style.use('bmh')"
      ]
    },
    {
      "cell_type": "markdown",
      "metadata": {},
      "source": [
        "## 1.1 Survey\n\nFirst we define the survey parameters. The source is an x-directed, electric\ndipole at the origin, of 1 A strength. Source coordinates for an electric\ndipole can be either in a couple of different ways, see\n:class:`emg3d.electrodes.TxElectricDipole`.\n\n"
      ]
    },
    {
      "cell_type": "code",
      "execution_count": null,
      "metadata": {
        "collapsed": false
      },
      "outputs": [],
      "source": [
        "# Define source coordinates.\nsrc_coo = (0, 0, 0, 0, 0)  # (x, y, z, azimuth, elevation)\n\n# Frequency of the source.\nfrequency = 10\n\n# Create source instance.\nsource = emg3d.TxElectricDipole(coordinates=src_coo)\nsource  # QC"
      ]
    },
    {
      "cell_type": "markdown",
      "metadata": {},
      "source": [
        "## 1.2 Grid\n\nNow we have to define a grid. This is the most difficult step. A grid should\nbe fine enough in order to resolve any relevant feature in the underground,\nand it should be fine enough around sources and receivers to not loose\naccuracy through the required interpolation. On the other hand, its boundary\nhas to be far away to avoid effects from the boundary condition. And then it\nshould need as few cells as possible for fast computation.\n\nYou can define your grid in any way that suits you, and there are better\ngrid-building tools than emg3d. However, emg3d does have some functionality\nto help with this task, in particular :func:`emg3d.meshes.construct_mesh`. We\nuse it here without too much explanations, and refer to its documentation for\nmore details.\n\n"
      ]
    },
    {
      "cell_type": "code",
      "execution_count": null,
      "metadata": {
        "collapsed": false
      },
      "outputs": [],
      "source": [
        "grid = emg3d.construct_mesh(\n    center=src_coo[:3],   # Center of wanted grid\n    frequency=frequency,  # Frequency we will use the grid for\n    properties=2,         # Reference resistivity\n    domain=[-800, 800],   # Domain in which we want precise results\n    center_on_edge=True,\n)\n\ngrid  # QC"
      ]
    },
    {
      "cell_type": "markdown",
      "metadata": {},
      "source": [
        "## 1.3 Model\n\nNext we have to build a model. What applies for the gridding applies as well\nfor the model building: there are better tools out there than emg3d for this\ntask (see, e.g., `sphx_glr_gallery_models_gempy-i.py`).\n\nHowever, building simple layered or block models is possible. Here we create\na very simple fullspace resistivity model with\n$\\rho_x=1.5\\,\\Omega\\,\\rm{m}$, $\\rho_y=1.8\\,\\Omega\\,\\rm{m}$, and\n$\\rho_z=3.3\\,\\Omega\\,\\rm{m}$.\n\n"
      ]
    },
    {
      "cell_type": "code",
      "execution_count": null,
      "metadata": {
        "collapsed": false
      },
      "outputs": [],
      "source": [
        "model = emg3d.Model(grid, property_x=1.5, property_y=1.8, property_z=3.3)\nmodel  # QC"
      ]
    },
    {
      "cell_type": "markdown",
      "metadata": {},
      "source": [
        "The properties are here defined in terms of resistivity. Have a look at the\nexample `sphx_glr_gallery_tutorials_mapping.py` to see how to define\nmodels in terms of conductivity or their logarithms.\n\n\n## 1.4 Compute the electric field\n\nFinally, we can compute the electric field with ``emg3d`` for a certain\nfrequency, here for 10 Hz:\n\n"
      ]
    },
    {
      "cell_type": "code",
      "execution_count": null,
      "metadata": {
        "collapsed": false
      },
      "outputs": [],
      "source": [
        "efield = emg3d.solve_source(model=model, source=source, frequency=10, verb=4)"
      ]
    },
    {
      "cell_type": "markdown",
      "metadata": {},
      "source": [
        "The computation requires in this case three multigrid F-cycles followed by\none BiCGSTAB cycle, and takes just a few seconds. It was able to coarsen in\neach dimension four times, where the input grid had 32,768 cells, and the\ncoarsest grid had 8 cells. There are many options for the solver, and the\nbest combination often depends on the problem to solve. More explanations can\nbe found in the example `sphx_glr_gallery_tutorials_parameter_tests.py`.\n\n## 1.5 Plot the result\n\nIf you have ``discretize`` and ``matplotlib`` installed we can now plot the\nresulting fields, here the x-directed electric field.\n\n"
      ]
    },
    {
      "cell_type": "code",
      "execution_count": null,
      "metadata": {
        "collapsed": false
      },
      "outputs": [],
      "source": [
        "grid.plot_3d_slicer(\n        efield.fx.ravel('F'), view='abs', v_type='Ex',\n        pcolor_opts={'norm': LogNorm()}\n)"
      ]
    },
    {
      "cell_type": "markdown",
      "metadata": {},
      "source": [
        "Let's assume we have a receiver line, x-directed (azimuth=elevation=0) point\nreceivers at y=200m, z=-100m, from x=-600 to 600 m. We can get the receiver\nresponses directly from the electric field:\n\n"
      ]
    },
    {
      "cell_type": "code",
      "execution_count": null,
      "metadata": {
        "collapsed": false
      },
      "outputs": [],
      "source": [
        "offs = np.arange(-60, 61)*10\ny, z = 200, -100\nazimuth, elevation = 0, 0\n\n# Get receiver responses.\nresp = efield.get_receiver((offs, y, z, azimuth, elevation))\n\n# Plot.\nfig, ax = plt.subplots()\nax.set_title(f\"y={y}m; z={z}m, \u03b8={azimuth}\u00b0, \u03c6={elevation}\u00b0\")\nax.plot(offs, resp.real, 'C0', label='Real')\nax.plot(offs, -resp.real, 'C0--')\nax.plot(offs, resp.imag, 'C1', label='Imag')\nax.plot(offs, -resp.imag, 'C1--')\nax.plot(offs, resp.amp(), 'C2', label='Amplitude')\nax.set_xlabel('x (m)')\nax.set_ylabel('Electric field (V/m)')\nax.legend()\nax.set_yscale('log')"
      ]
    },
    {
      "cell_type": "markdown",
      "metadata": {},
      "source": [
        "## 1.6 Compute and plot the magnetic field\n\nWe can also get the magnetic field and plot it (note that ``v_type='Fx'``\nnow, not ``Ex``, as the magnetic fields lives on the faces of the Yee grid):\n\n"
      ]
    },
    {
      "cell_type": "code",
      "execution_count": null,
      "metadata": {
        "collapsed": false
      },
      "outputs": [],
      "source": [
        "hfield = emg3d.get_magnetic_field(model=model, efield=efield)\ngrid.plot_3d_slicer(\n        hfield.fx.ravel('F'), view='abs', v_type='Fx',\n        pcolor_opts={'norm': LogNorm()}\n)"
      ]
    },
    {
      "cell_type": "markdown",
      "metadata": {},
      "source": [
        "## 1.7 Plotting the field\n\nUsing ``discretize`` for meshing has the advantage that we can use all the\nimplemented tools, such as plotting the field lines:\n\n"
      ]
    },
    {
      "cell_type": "code",
      "execution_count": null,
      "metadata": {
        "collapsed": false
      },
      "outputs": [],
      "source": [
        "_ = grid.plot_slice(\n    grid.aveE2CCV * efield.field.real,  # Cell-avg values of real component\n    normal='Y', v_type='CCv', view='vec',\n    pcolor_opts={'norm': LogNorm()},\n)"
      ]
    },
    {
      "cell_type": "code",
      "execution_count": null,
      "metadata": {
        "collapsed": false
      },
      "outputs": [],
      "source": [
        "emg3d.Report()"
      ]
    }
  ],
  "metadata": {
    "kernelspec": {
      "display_name": "Python 3",
      "language": "python",
      "name": "python3"
    },
    "language_info": {
      "codemirror_mode": {
        "name": "ipython",
        "version": 3
      },
      "file_extension": ".py",
      "mimetype": "text/x-python",
      "name": "python",
      "nbconvert_exporter": "python",
      "pygments_lexer": "ipython3",
      "version": "3.12.4"
    }
  },
  "nbformat": 4,
  "nbformat_minor": 0
}