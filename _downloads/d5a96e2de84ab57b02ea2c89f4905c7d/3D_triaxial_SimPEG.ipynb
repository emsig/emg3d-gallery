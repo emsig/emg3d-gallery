{
  "cells": [
    {
      "cell_type": "code",
      "execution_count": null,
      "metadata": {
        "collapsed": false
      },
      "outputs": [],
      "source": [
        "%matplotlib widget"
      ]
    },
    {
      "cell_type": "markdown",
      "metadata": {},
      "source": [
        "\n# 3. SimPEG: 3D with tri-axial anisotropy\n\n[SimPEG](https://simpeg.xyz) is an open source python package for simulation\nand gradient based parameter estimation in geophysical applications. Here we\ncompare ``emg3d`` with ``SimPEG`` using the forward solver ``Pardiso``.\n"
      ]
    },
    {
      "cell_type": "code",
      "execution_count": null,
      "metadata": {
        "collapsed": false
      },
      "outputs": [],
      "source": [
        "import os\nimport pooch\nimport emg3d\nimport numpy as np\nimport matplotlib.pyplot as plt\nplt.style.use('bmh')\n\n\n# Adjust this path to a folder of your choice.\ndata_path = os.path.join('..', 'download', '')"
      ]
    },
    {
      "cell_type": "markdown",
      "metadata": {},
      "source": [
        "## Model parameters\n\n"
      ]
    },
    {
      "cell_type": "code",
      "execution_count": null,
      "metadata": {
        "collapsed": false
      },
      "outputs": [],
      "source": [
        "# Depths (0 is sea-surface);\n# hence a deep sea case where we can ignore the air.\nwater_depth = 3000\ntarget_x = np.r_[-500, 500]\ntarget_y = target_x\ntarget_z = -water_depth + np.r_[-400, -100]\n\n# Resistivities\nres_sea = 0.33\nres_back = [1., 2., 3.]  # Background in x-, y-, and z-directions\nres_target = 100.\n\n# Acquisition frequency\nfrequency = 1.0"
      ]
    },
    {
      "cell_type": "markdown",
      "metadata": {},
      "source": [
        "## Grid\n\n"
      ]
    },
    {
      "cell_type": "code",
      "execution_count": null,
      "metadata": {
        "collapsed": false
      },
      "outputs": [],
      "source": [
        "vx, vz = np.arange(-20, 21)*100, np.arange(-34, -19)*100\ngrid = emg3d.meshes.construct_mesh(\n    frequency=frequency,\n    properties=1,\n    center=(0, 0, 0),\n    vector=(vx, vx, vz),\n    center_on_edge=True,\n)\n\ngrid"
      ]
    },
    {
      "cell_type": "markdown",
      "metadata": {},
      "source": [
        "## Survey parameters\n\n"
      ]
    },
    {
      "cell_type": "code",
      "execution_count": null,
      "metadata": {
        "collapsed": false
      },
      "outputs": [],
      "source": [
        "# We take the receiver locations at the actual CCx-locations\nrec_x = grid.cell_centers_x[12:-12]\nrec = (rec_x, 0, -water_depth, 0, 0)\nprint(f\"Receiver locations:\\n{rec_x}\\n\")\n\nsource = emg3d.TxElectricDipole([-100, 100, 0, 0, -2900, -2900])\nsfield = emg3d.get_source_field(grid, source, frequency)  # Source field"
      ]
    },
    {
      "cell_type": "markdown",
      "metadata": {},
      "source": [
        "## Create model\n\n"
      ]
    },
    {
      "cell_type": "code",
      "execution_count": null,
      "metadata": {
        "collapsed": false
      },
      "outputs": [],
      "source": [
        "# Layered_background\nres_x = res_sea*np.ones(grid.n_cells)\nres_y = res_x.copy()\nres_z = res_x.copy()\n\n# Tri-axial background.\nres_x[grid.cell_centers[:, 2] <= -water_depth] = res_back[0]\nres_y[grid.cell_centers[:, 2] <= -water_depth] = res_back[1]\nres_z[grid.cell_centers[:, 2] <= -water_depth] = res_back[2]\n\nres_x_bg = res_x.copy()\nres_y_bg = res_y.copy()\nres_z_bg = res_z.copy()\n\n# Include the target\ntarget_inds = (\n    (grid.cell_centers[:, 0] >= target_x[0]) &\n    (grid.cell_centers[:, 0] <= target_x[1]) &\n    (grid.cell_centers[:, 1] >= target_y[0]) &\n    (grid.cell_centers[:, 1] <= target_y[1]) &\n    (grid.cell_centers[:, 2] >= target_z[0]) &\n    (grid.cell_centers[:, 2] <= target_z[1])\n)\nres_x[target_inds] = res_target\nres_y[target_inds] = res_target\nres_z[target_inds] = res_target\n\n# Create emg3d-models for given frequency\nmodel = emg3d.Model(\n        grid, property_x=res_x, property_y=res_y,\n        property_z=res_z, mapping='Resistivity')\nmodel_bg = emg3d.Model(\n        grid, property_x=res_x_bg, property_y=res_y_bg,\n        property_z=res_z_bg, mapping='Resistivity')\n\n# Plot a slice\ngrid.plot_3d_slicer(\n        model.property_x, zslice=-3200, clim=[0, 2],\n        xlim=(-4000, 4000), ylim=(-4000, 4000), zlim=(-4000, -2000)\n)"
      ]
    },
    {
      "cell_type": "markdown",
      "metadata": {},
      "source": [
        "## Compute ``emg3d``\n\n"
      ]
    },
    {
      "cell_type": "code",
      "execution_count": null,
      "metadata": {
        "collapsed": false
      },
      "outputs": [],
      "source": [
        "e3d_ftg = emg3d.solve(model, sfield, verb=1)\ne3d_tg = e3d_ftg.get_receiver(rec)\n\ne3d_fbg = emg3d.solve(model_bg, sfield, verb=1)\ne3d_bg = e3d_fbg.get_receiver(rec)"
      ]
    },
    {
      "cell_type": "markdown",
      "metadata": {},
      "source": [
        "## Fetch and load SimPEG result\n\n"
      ]
    },
    {
      "cell_type": "code",
      "execution_count": null,
      "metadata": {
        "collapsed": false
      },
      "outputs": [],
      "source": [
        "# Fetch pre-computed data.\nfname = 'simpeg.h5'\npooch.retrieve(\n    'https://raw.github.com/emsig/data/2021-05-21/emg3d/external/'+fname,\n    'e0502ccfb6dfec599f4c53d9b8f8a0c79b7d872c7224a9b403cb57f39e729409',\n    fname=fname,\n    path=data_path,\n)\n\n# Load pre-computed data.\nspg = emg3d.load(data_path + fname)\nspg_tg, spg_bg = spg['spg_tg'], spg['spg_bg']"
      ]
    },
    {
      "cell_type": "markdown",
      "metadata": {},
      "source": [
        "## Plot result\n\n"
      ]
    },
    {
      "cell_type": "code",
      "execution_count": null,
      "metadata": {
        "collapsed": false
      },
      "outputs": [],
      "source": [
        "def nrmsd(a, b):\n    \"\"\"Return Normalized Root-Mean-Square Difference.\"\"\"\n    return 200 * abs(a - b) / (abs(a) + abs(b))\n\n\nfig, axs = plt.subplots(\n        2, 2, figsize=(9, 5), sharex=True, sharey='row',\n        constrained_layout=True)\n((ax1, ax3), (ax2, ax4)) = axs\n\n# Real part\nax1.set_title(r'|Real|')\nax1.plot(rec_x/1e3, 1e12*np.abs(spg_tg.real), 'C0-', label='SimPEG target')\nax1.plot(rec_x/1e3, 1e12*np.abs(spg_bg.real), 'C1-', label='SimPEG BG')\nax1.plot(rec_x/1e3, 1e12*np.abs(e3d_tg.real), 'k:')\nax1.plot(rec_x/1e3, 1e12*np.abs(e3d_bg.real), 'k--')\nax1.set_ylabel('$E_x$ (pV/m)')\nax1.set_yscale('log')\nax1.legend()\n\n# Normalized difference real\nax2.plot(rec_x/1e3, nrmsd(spg_tg.real, e3d_tg.real), 'C0.')\nax2.plot(rec_x/1e3, nrmsd(spg_bg.real, e3d_bg.real), 'C1.')\nax2.set_ylabel('Norm. Diff (%)')\nax2.set_xlabel('Offset (km)')\n\n# Imaginary part\nax3.set_title(r'|Imaginary|')\nax3.plot(rec_x/1e3, 1e12*np.abs(spg_tg.imag), 'C0-')\nax3.plot(rec_x/1e3, 1e12*np.abs(spg_bg.imag), 'C1-')\nax3.plot(rec_x/1e3, 1e12*np.abs(e3d_tg.imag), 'k:', label='emg3d target')\nax3.plot(rec_x/1e3, 1e12*np.abs(e3d_bg.imag), 'k--', label='emg3d BG')\nax3.legend()\n\n# Normalized difference imag\nax4.plot(rec_x/1e3, nrmsd(spg_tg.imag, e3d_tg.imag), 'C0.')\nax4.plot(rec_x/1e3, nrmsd(spg_bg.imag, e3d_bg.imag), 'C1.')\nax4.set_xlabel('Offset (km)')\nax4.set_yscale('log')"
      ]
    },
    {
      "cell_type": "markdown",
      "metadata": {},
      "source": [
        "## Reproduce ``SimPEG`` result\n\nIn order to reduce (a) the number of dependencies to generate the gallery\nand, more importantly, (b) the runtime and memory requirements of the gallery\nthe SimPEG result is pre-computed.\n\n<div class=\"alert alert-info\"><h4>Note</h4><p>The following cell needs to be carried out to compute the SimPEG results\n    from scratch. For this you  have to install ``simpeg`` and\n    ``pymatsolver``. The code example and the ``simpeg.h5``-file used above\n    were created on 2021-04-14 with ``simpeg=0.14.3``, ``pymatsolver=0.1.1``,\n    and ``discretize=0.6.3``.</p></div>\n\n\n```python\n# Note, in order to use the ``Pardiso``-solver ``pymatsolver`` has to be\n# installed via ``conda``, not via ``pip``!\nimport SimPEG\nimport discretize\nimport pymatsolver\nimport SimPEG.electromagnetics.frequency_domain as FDEM\n\n# Set up the receivers\nrx_locs = discretize.utils.ndgrid([rec_x, np.r_[0], np.r_[-water_depth]])\nrx_list = [\n    FDEM.receivers.PointElectricField(\n        orientation='x', component=\"real\", locations=rx_locs),\n    FDEM.receivers.PointElectricField(\n        orientation='x', component=\"imag\", locations=rx_locs)\n]\n\n# We use the emg3d-source-vector, to ensure we use the same in both cases\nsvector = np.real(sfield.field/-sfield.smu0)\nsrc_sp = FDEM.sources.RawVec_e(rx_list, s_e=svector, frequency=frequency)\nsrc_list = [src_sp]\nsurvey = FDEM.Survey(src_list)\n\n# Define the Simulation\nmesh = discretize.TensorMesh(grid.h, grid.origin)\nsim = FDEM.simulation.Simulation3DElectricField(\n        mesh,\n        survey=survey,\n        sigmaMap=SimPEG.maps.IdentityMap(mesh),\n        solver=pymatsolver.Pardiso,\n)\n\nspg_tg_dobs = sim.dpred(np.vstack([1./res_x, 1./res_y, 1./res_z]).T)\nspg_ftg = SimPEG.survey.Data(survey, dobs=spg_tg_dobs)\n\nspg_bg_dobs = sim.dpred(\n        np.vstack([1./res_x_bg, 1./res_y_bg, 1./res_z_bg]).T)\nspg_fbg = SimPEG.survey.Data(survey, dobs=spg_bg_dobs)\n\nspg_tg = spg_ftg[src_sp, rx_list[0]] + 1j*spg_ftg[src_sp, rx_list[1]]\nspg_bg = spg_fbg[src_sp, rx_list[0]] + 1j*spg_fbg[src_sp, rx_list[1]]\n\n# emg3d.save('simpeg.h5', spg_tg=spg_tg, spg_bg=spg_bg)\n```\n"
      ]
    },
    {
      "cell_type": "code",
      "execution_count": null,
      "metadata": {
        "collapsed": false
      },
      "outputs": [],
      "source": [
        "emg3d.Report()"
      ]
    }
  ],
  "metadata": {
    "kernelspec": {
      "display_name": "Python 3",
      "language": "python",
      "name": "python3"
    },
    "language_info": {
      "codemirror_mode": {
        "name": "ipython",
        "version": 3
      },
      "file_extension": ".py",
      "mimetype": "text/x-python",
      "name": "python",
      "nbconvert_exporter": "python",
      "pygments_lexer": "ipython3",
      "version": "3.12.4"
    }
  },
  "nbformat": 4,
  "nbformat_minor": 0
}