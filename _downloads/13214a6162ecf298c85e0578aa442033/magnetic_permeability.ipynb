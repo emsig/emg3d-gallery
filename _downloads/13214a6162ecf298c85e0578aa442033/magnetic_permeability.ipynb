{
  "cells": [
    {
      "cell_type": "code",
      "execution_count": null,
      "metadata": {
        "collapsed": false
      },
      "outputs": [],
      "source": [
        "%matplotlib widget"
      ]
    },
    {
      "cell_type": "markdown",
      "metadata": {},
      "source": [
        "\n# 9. Magnetic permeability\n\nThe solver ``emg3d`` uses the diffusive approximation of Maxwell's equations;\nthe relative electric permittivity is therefore fixed at\n$\\varepsilon_\\rm{r} = 1$. The magnetic permeability $\\mu_\\rm{r}$,\nhowever, is implemented in ``emg3d``, albeit only isotropically.\n\nIn this example we run the same model as in the example mentioned above: A\nrotated finite length bipole in a homogeneous VTI fullspace, but here with\nisotropic magnetic permeability, and compare it to the semi-analytical solution\nof ``empymod``. (The code ``empymod`` is an open-source code which can model\nCSEM responses for a layered medium including VTI electrical anisotropy, see\n[emsig.xyz](https://emsig.xyz).)\n"
      ]
    },
    {
      "cell_type": "code",
      "execution_count": null,
      "metadata": {
        "collapsed": false
      },
      "outputs": [],
      "source": [
        "import emg3d\nimport empymod\nimport numpy as np\nimport matplotlib.pyplot as plt"
      ]
    },
    {
      "cell_type": "markdown",
      "metadata": {},
      "source": [
        "## Full-space model for a finite length, finite strength, rotated bipole\n\nIn order to shorten the build-time of the gallery we use a coarse model.\nSet ``coarse_model = False`` to obtain a result of higher accuracy.\n\n"
      ]
    },
    {
      "cell_type": "code",
      "execution_count": null,
      "metadata": {
        "collapsed": false
      },
      "outputs": [],
      "source": [
        "coarse_model = True"
      ]
    },
    {
      "cell_type": "markdown",
      "metadata": {},
      "source": [
        "### Survey and model parameters\n\n"
      ]
    },
    {
      "cell_type": "code",
      "execution_count": null,
      "metadata": {
        "collapsed": false
      },
      "outputs": [],
      "source": [
        "# Receiver coordinates\nif coarse_model:\n    x = (np.arange(256))*20-2550\nelse:\n    x = (np.arange(1025))*5-2560\nrx = np.repeat([x, ], np.size(x), axis=0)\nry = rx.transpose()\nfrx, fry = rx.ravel(), ry.ravel()\nrz = -400.0\nazimuth = 22\nelevation = 13\n\n# Source coordinates, frequency, and strength\nsource = emg3d.TxElectricDipole(\n    coordinates=[-50, 50, -30, 30, -320., -280.],  # [x1, x2, y1, y2, z1, z2]\n    strength=2.8,  # A\n)\nfrequency = 0.7  # Hz\n\n# Model parameters\nh_res = 1.              # Horizontal resistivity\naniso = np.sqrt(2.)     # Anisotropy\nv_res = h_res*aniso**2  # Vertical resistivity\nmperm = 2.5             # Magnetic permeability"
      ]
    },
    {
      "cell_type": "markdown",
      "metadata": {},
      "source": [
        "### empymod\nNote: The coordinate system of empymod is positive z down, for emg3d it is\npositive z up. We have to switch therefore src_z, rec_z, and elevation.\n\n"
      ]
    },
    {
      "cell_type": "code",
      "execution_count": null,
      "metadata": {
        "collapsed": false
      },
      "outputs": [],
      "source": [
        "# Compute\nepm = empymod.bipole(\n    src=np.r_[source.coordinates[:4], -source.coordinates[4:]],\n    rec=[frx, fry, -rz, azimuth, -elevation],\n    depth=[],\n    res=h_res,\n    aniso=aniso,\n    strength=source.strength,\n    srcpts=5,\n    freqtime=frequency,\n    mpermH=mperm,\n    htarg={'pts_per_dec': -1},\n    verb=3,\n).reshape(np.shape(rx))"
      ]
    },
    {
      "cell_type": "markdown",
      "metadata": {},
      "source": [
        "### emg3d\n\n"
      ]
    },
    {
      "cell_type": "code",
      "execution_count": null,
      "metadata": {
        "collapsed": false
      },
      "outputs": [],
      "source": [
        "if coarse_model:\n    min_width_limits = 40\n    stretching = [1.045, 1.045]\nelse:\n    min_width_limits = 20\n    stretching = [1.03, 1.045]\n\n# Create stretched grid\ngrid = emg3d.construct_mesh(\n    frequency=frequency,\n    properties=h_res,\n    center=source.center,\n    domain=([-2500, 2500], [-2500, 2500], [-2900, 2100]),\n    min_width_limits=min_width_limits,\n    stretching=stretching,\n    lambda_from_center=True,\n    lambda_factor=0.8,\n    center_on_edge=False,\n)\ngrid"
      ]
    },
    {
      "cell_type": "code",
      "execution_count": null,
      "metadata": {
        "collapsed": false
      },
      "outputs": [],
      "source": [
        "# Define the model, with magnetic permeability\nmodel = emg3d.Model(\n    grid, property_x=h_res, property_z=v_res,\n    mu_r=mperm, mapping='Resistivity'\n)\n\n# Compute the electric field\nefield = emg3d.solve_source(model, source, frequency, verb=4, plain=True)\n\n# Get responses at receivers\ne3d = efield.get_receiver((rx, ry, rz, azimuth, elevation))"
      ]
    },
    {
      "cell_type": "markdown",
      "metadata": {},
      "source": [
        "### Plot\n\n"
      ]
    },
    {
      "cell_type": "code",
      "execution_count": null,
      "metadata": {
        "collapsed": false
      },
      "outputs": [],
      "source": [
        "# Start figure.\na_kwargs = {'cmap': \"viridis\", 'vmin': -12, 'vmax': -6, 'shading': 'nearest'}\n\ne_kwargs = {'cmap': plt.get_cmap(\"RdBu_r\", 8),\n            'vmin': -2, 'vmax': 2, 'shading': 'nearest'}\n\nfig, axs = plt.subplots(2, 3, figsize=(10, 5.5), sharex=True, sharey=True,\n                        subplot_kw={'box_aspect': 1})\n\n((ax1, ax2, ax3), (ax4, ax5, ax6)) = axs\nx3 = x/1000  # km\n\n# Plot Re(data)\nax1.set_title(r\"(a) |Re(empymod)|\")\ncf0 = ax1.pcolormesh(x3, x3, np.log10(epm.real.amp()), **a_kwargs)\n\nax2.set_title(r\"(b) |Re(emg3d)|\")\nax2.pcolormesh(x3, x3, np.log10(e3d.real.amp()), **a_kwargs)\n\nax3.set_title(r\"(c) Error real part\")\nrel_error = 100*np.abs((epm.real - e3d.real) / epm.real)\ncf2 = ax3.pcolormesh(x3, x3, np.log10(rel_error), **e_kwargs)\n\n# Plot Im(data)\nax4.set_title(r\"(d) |Im(empymod)|\")\nax4.pcolormesh(x3, x3, np.log10(epm.imag.amp()), **a_kwargs)\n\nax5.set_title(r\"(e) |Im(emg3d)|\")\nax5.pcolormesh(x3, x3, np.log10(e3d.imag.amp()), **a_kwargs)\n\nax6.set_title(r\"(f) Error imaginary part\")\nrel_error = 100*np.abs((epm.imag - e3d.imag) / epm.imag)\nax6.pcolormesh(x3, x3, np.log10(rel_error), **e_kwargs)\n\n# Colorbars\nfig.colorbar(cf0, ax=axs[0, :], label=r\"$\\log_{10}$ Amplitude (V/m)\")\ncbar = fig.colorbar(cf2, ax=axs[1, :], label=r\"Relative Error\")\ncbar.set_ticks([-2, -1, 0, 1, 2])\ncbar.ax.set_yticklabels([r\"$0.01\\,\\%$\", r\"$0.1\\,\\%$\", r\"$1\\,\\%$\",\n                         r\"$10\\,\\%$\", r\"$100\\,\\%$\"])\n\nax1.set_xlim(min(x3), max(x3))\nax1.set_ylim(min(x3), max(x3))\n\n# Axis label\nfig.text(0.4, 0.05, \"Inline Offset (km)\", fontsize=14)\nfig.text(0.05, 0.3, \"Crossline Offset (km)\", rotation=90, fontsize=14)\nfig.suptitle(r'Diffusive Fullspace, $E$-field', y=1, fontsize=20)\n\nprint(f\"- Source: {source}\")\nprint(f\"- Frequency: {frequency} Hz\")\nprint(f\"- Electric receivers: z={rz} m; \u03b8={azimuth}\u00b0, \u03c6={elevation}\u00b0\")"
      ]
    },
    {
      "cell_type": "code",
      "execution_count": null,
      "metadata": {
        "collapsed": false
      },
      "outputs": [],
      "source": [
        "emg3d.Report()"
      ]
    }
  ],
  "metadata": {
    "kernelspec": {
      "display_name": "Python 3",
      "language": "python",
      "name": "python3"
    },
    "language_info": {
      "codemirror_mode": {
        "name": "ipython",
        "version": 3
      },
      "file_extension": ".py",
      "mimetype": "text/x-python",
      "name": "python",
      "nbconvert_exporter": "python",
      "pygments_lexer": "ipython3",
      "version": "3.12.4"
    }
  },
  "nbformat": 4,
  "nbformat_minor": 0
}