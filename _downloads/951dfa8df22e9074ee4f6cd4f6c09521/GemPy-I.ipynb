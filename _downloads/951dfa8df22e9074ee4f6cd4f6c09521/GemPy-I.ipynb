{
  "cells": [
    {
      "cell_type": "code",
      "execution_count": null,
      "metadata": {
        "collapsed": false
      },
      "outputs": [],
      "source": [
        "%matplotlib widget"
      ]
    },
    {
      "cell_type": "markdown",
      "metadata": {},
      "source": [
        "\n# GemPy-I: *Simple Fault Model*\n\nThis example uses [GemPy](https://www.gempy.org) to create a geological model\nas input to emg3d, utilizing [discretize](http://discretize.simpeg.xyz).\nHaving it in discretize allows us also to plot it with [PyVista](https://github.com/pyvista).\n\nThe starting point is the *simple_fault_model* as used in [Chapter 1.1](https://docs.gempy.org/tutorials/ch1_fundamentals/ch1_1_basics.html) of the\nGemPy documentation. It is a nice, made-up model of a folded structure with a\nfault. Here we slightly modify it (convert it into a shallow marine setting),\nand create a resisistivity model out of the lithological model.\n\nThe result is what is referred to in other examples as model `GemPy-I`, a\nsynthetic, shallow-marine resistivity model consisting of a folded structure\nwith a fault. It is one of a few models created to be used in other examples.\n\n<div class=\"alert alert-info\"><h4>Note</h4><p>The original model (*simple_fault_model*) hosted on\n    https://github.com/cgre-aachen/gempy_data is released under the [LGPL-3.0\n    License](https://www.gnu.org/licenses/lgpl-3.0.en.html).</p></div>\n"
      ]
    },
    {
      "cell_type": "code",
      "execution_count": null,
      "metadata": {
        "collapsed": false
      },
      "outputs": [],
      "source": [
        "import os\nimport pooch\nimport emg3d\nimport matplotlib.pyplot as plt\nfrom matplotlib.colors import LogNorm\nplt.style.use('bmh')\n\n\n# Adjust this path to a folder of your choice.\ndata_path = os.path.join('..', 'download', '')"
      ]
    },
    {
      "cell_type": "markdown",
      "metadata": {},
      "source": [
        "## Fetch the model\n\nRetrieve and load the pre-computed resistivity model.\n\n"
      ]
    },
    {
      "cell_type": "code",
      "execution_count": null,
      "metadata": {
        "collapsed": false
      },
      "outputs": [],
      "source": [
        "fname = \"GemPy-I.h5\"\npooch.retrieve(\n    'https://raw.github.com/emsig/data/2021-05-21/emg3d/models/'+fname,\n    '06f522a69c94dc02ca3da0ea4ca7b60f7a9c764cdcbf6699ef4155621d70b3bb',\n    fname=fname,\n    path=data_path,\n)\nfmodel = emg3d.load(data_path + fname)['model']\nfgrid = fmodel.grid"
      ]
    },
    {
      "cell_type": "markdown",
      "metadata": {},
      "source": [
        "## QC resistivity model\n\n"
      ]
    },
    {
      "cell_type": "code",
      "execution_count": null,
      "metadata": {
        "collapsed": false
      },
      "outputs": [],
      "source": [
        "fgrid.plot_3d_slicer(\n    fmodel.property_x, zslice=-1000,\n    pcolor_opts={'norm': LogNorm(vmin=0.3, vmax=500)}\n)"
      ]
    },
    {
      "cell_type": "markdown",
      "metadata": {},
      "source": [
        "## Compute some example CSEM data with it\n\n"
      ]
    },
    {
      "cell_type": "code",
      "execution_count": null,
      "metadata": {
        "collapsed": false
      },
      "outputs": [],
      "source": [
        "# Source:  x-directed electric-source at (1000, 1000, -500)\nsrc_coo = [1000, 1000, -500, 0, 0]\nfrequency = 1.0  # Hz\n\n# Computational grid\ngrid = emg3d.construct_mesh(\n    frequency=frequency,\n    center=src_coo[:3],\n    properties=[0.3, 200, 1000],\n    domain=([0, 2000], [0, 2000], [-2000, 0]),\n    seasurface=0,\n    center_on_edge=False,\n)\ngrid\n\n# Get the computational model\nmodel = fmodel.interpolate_to_grid(grid)\n\n# Compute the response\nefield = emg3d.solve_source(\n    model=model,\n    source=emg3d.TxElectricDipole(src_coo),\n    frequency=frequency,\n    verb=1,\n)\n\n# Plot the response\ngrid.plot_3d_slicer(\n    efield.fx.ravel('F'),\n    view='abs', v_type='Ex',\n    zslice=-1000,\n    xlim=(-500, 2500), ylim=(-500, 2500), zlim=(-2000, 50),\n    pcolor_opts={'norm': LogNorm(vmin=5e-12, vmax=5e-9)},\n)"
      ]
    },
    {
      "cell_type": "markdown",
      "metadata": {},
      "source": [
        "## Reproduce the model\n\n<div class=\"alert alert-info\"><h4>Note</h4><p>The following sections are about how to reproduce the model. For this you\n    have to install ``gempy``. The code example and the ``GemPy-I.h5``-file\n    used in the gallery were created on 2021-05-21 with ``gempy=2.2.9`` and\n    ``pandas=1.2.4``.</p></div>\n\n\n## Get and initiate the *simple_fault_model*\n\n**Changes made to the original model** (differences between the files\n`simple_fault_model_*.csv` and `simple_fault_model_*_geophy.csv`): Changed\nthe stratigraphic unit names, and moved the model 2 km down.\n\nInstead of reading a csv-file we could also initiate an empty instance and\nthen add points and orientations after that by, e.g., providing numpy arrays.\n\n```python\nimport gempy as gempy\nimport numpy as np\n\n# Initiate a model\ngeo_model = gempy.create_model('GemPy-I')\n\n# Location of data files.\ndata_url = 'https://raw.githubusercontent.com/cgre-aachen/gempy_data/'\ndata_url += 'master/data/input_data/tut_chapter1/'\n\n# Importing the data from CSV-files and setting extent and resolution\n# This is a regular grid, mainly for plotting purposes\ngempy.init_data(\n    geo_model,\n    [0, 2000., 0, 2000., -2000, 40.], [50, 50, 51],\n    path_o=data_url+\"simple_fault_model_orientations_geophy.csv\",\n    path_i=data_url+\"simple_fault_model_points_geophy.csv\",\n)\n```\n"
      ]
    },
    {
      "cell_type": "markdown",
      "metadata": {},
      "source": [
        "## Initiate the stratigraphies and faults, and add an air layer\n\n```python\n# Add an air-layer: Horizontal layer at z=0m\ngeo_model.add_surfaces('air')\ngeo_model.add_surface_points(0, 0, 0, 'air')\ngeo_model.add_surface_points(0, 0, 0, 'air')\ngeo_model.add_orientations(0, 0, 0, 'air', [0, 0, 1])\n\n# Add Series for the air layer; this series will not be cut by the fault\ngeo_model.add_series('Air_Series')\ngeo_model.modify_order_series(2, 'Air_Series')\ngempy.map_series_to_surfaces(geo_model, {'Air_Series': 'air'})\n\n# Map the different series\ngempy.map_series_to_surfaces(\n    geo_model,\n    {\n        \"Fault_Series\": 'fault',\n        \"Air_Series\": ('air'),\n        \"Strat_Series\": ('seawater', 'overburden', 'target',\n                         'underburden', 'basement')\n    },\n    remove_unused_series=True\n)\n\ngeo_model.rename_series({'Main_Fault': 'Fault_Series'})\n\n# Set which series the fault series is cutting\ngeo_model.set_is_fault('Fault_Series')\ngeo_model.faults.faults_relations_df\n```\n"
      ]
    },
    {
      "cell_type": "markdown",
      "metadata": {},
      "source": [
        "## Compute the model with GemPy\n\n```python\n# Set the interpolator.\ngempy.set_interpolator(\n    geo_model,\n    compile_theano=True,\n    theano_optimizer='fast_compile',\n    verbose=[]\n)\n\n# Compute it.\nsol = gempy.compute_model(geo_model, compute_mesh=True)\n\n# Plot lithologies (colour-code corresponds to lithologies)\n_ = gempy.plot_2d(geo_model, cell_number=25, direction='y',\n                  show_data=True)\n```\n"
      ]
    },
    {
      "cell_type": "markdown",
      "metadata": {},
      "source": [
        "## Get id's for a discretize mesh\n\nWe could define the resistivities before, but currently it is difficult for\nGemPy to interpolate for something like resistivities with a very wide range\nof values (several orders of magnitudes). So we can simply map it here to the\n``id`` (Note: GemPy does not do interpolation for cells which lie in\ndifferent stratigraphies, so the id is always in integer).\n\n```python\n# First we create a detailed discretize-mesh to store the resistivity\n# model and use it in other examples as well.\nhxy = np.ones(100)*100\nhz = np.ones(100)*25\nfgrid = emg3d.TensorMesh([hxy, hxy, hz], origin=(-4000, -4000, -2400))\n\n# Get the solution at cell centers of our grid.\nsol = gempy.compute_model(geo_model, at=fgrid.gridCC)\n\n# Show the surfaces.\ngeo_model.surfaces\n```\n"
      ]
    },
    {
      "cell_type": "markdown",
      "metadata": {},
      "source": [
        "## Replace id's by resistivities\n\n```python\n# Now, we convert the id's to resistivities\nres = sol.custom[0][0, :fgrid.n_cells]\n\nres[res == 1] = 1e8  # air\n# id=2 is the fault\nres[np.round(res) == 3] = 0.3  # sea water\nres[np.round(res) == 4] = 1.0  # overburden\nres[np.round(res) == 5] = 50   # resistive layer\nres[np.round(res) == 6] = 1.5  # underburden\nres[np.round(res) == 7] = 200  # resistive basement\n\n# Create an emg3d-model.\nfmodel = emg3d.Model(fgrid, property_x=res, mapping='Resistivity')\n\n# Store model.\nemg3d.save('GemPy-I.h5', model=fmodel)\n```\n"
      ]
    },
    {
      "cell_type": "markdown",
      "metadata": {},
      "source": [
        "## PyVista plot\n\n<div class=\"alert alert-info\"><h4>Note</h4><p>The final cell is about how to plot the model in 3D using PyVista,\n    for which you have to install ``pyvista``.\n\n    The code example was created on 2021-05-21 with ``pyvista=0.30.1``.</p></div>\n\n```python\nimport pyvista\nimport numpy as np\n\ndataset = fgrid.toVTK({'res': np.log10(fmodel.property_x.ravel('F'))})\n\n# Create the rendering scene and add a grid axes\np = pyvista.Plotter(notebook=True)\np.show_grid(location='outer')\n\n# Add spatially referenced data to the scene\ndparams = {'rng': np.log10([0.3, 500]), 'show_edges': False}\nxyz = (1500, 500, -1500)\np.add_mesh(dataset.slice('x', xyz), name='x-slice', **dparams)\np.add_mesh(dataset.slice('y', xyz), name='y-slice', **dparams)\n\n# Add a layer as 3D\np.add_mesh(dataset.threshold([1.69, 1.7]), name='vol', **dparams)\n\n# Show the scene!\np.camera_position = [\n    (-10000, 25000, 4000), (1000, 1000, -1000), (0, 0, 1)\n]\np.show()\n```\n.. figure:: ../../_static/images/GemPy-I.png\n   :scale: 66 %\n   :align: center\n   :alt: GemPy-I model with PyVista\n   :name: gempy-i\n\n"
      ]
    },
    {
      "cell_type": "code",
      "execution_count": null,
      "metadata": {
        "collapsed": false
      },
      "outputs": [],
      "source": [
        "emg3d.Report()"
      ]
    }
  ],
  "metadata": {
    "kernelspec": {
      "display_name": "Python 3",
      "language": "python",
      "name": "python3"
    },
    "language_info": {
      "codemirror_mode": {
        "name": "ipython",
        "version": 3
      },
      "file_extension": ".py",
      "mimetype": "text/x-python",
      "name": "python",
      "nbconvert_exporter": "python",
      "pygments_lexer": "ipython3",
      "version": "3.12.4"
    }
  },
  "nbformat": 4,
  "nbformat_minor": 0
}