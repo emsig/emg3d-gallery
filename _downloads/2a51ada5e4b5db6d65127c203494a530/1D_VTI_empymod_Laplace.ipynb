{
  "cells": [
    {
      "cell_type": "code",
      "execution_count": null,
      "metadata": {
        "collapsed": false
      },
      "outputs": [],
      "source": [
        "%matplotlib widget"
      ]
    },
    {
      "cell_type": "markdown",
      "metadata": {},
      "source": [
        "\n# 5. empymod: 1D VTI Laplace-domain\n\n1D VTI comparison between ``emg3d`` and ``empymod`` in the Laplace domain.\n\nThe code ``empymod`` is an open-source code which can model CSEM responses for\na layered medium including VTI electrical anisotropy, see [emsig.xyz](https://emsig.xyz).\n\nContent:\n\n1. Full-space VTI model for a finite length, finite strength, rotated bipole.\n2. Layered model for a deep water model with a point dipole source.\n\n\nBoth codes, ``empymod`` and ``emg3d``, are able to compute the EM response in\nthe Laplace domain, by using a real value $s$ instead of the complex\nvalue $\\mathrm{i}\\omega=2\\mathrm{i}\\pi f$. To compute the response in\nthe Laplace domain in the two codes you have to provide negative values for the\n``freq``-parameter, which are then considered ``s-value``.\n"
      ]
    },
    {
      "cell_type": "code",
      "execution_count": null,
      "metadata": {
        "collapsed": false
      },
      "outputs": [],
      "source": [
        "import emg3d\nimport empymod\nimport numpy as np\nimport matplotlib.pyplot as plt"
      ]
    },
    {
      "cell_type": "markdown",
      "metadata": {},
      "source": [
        "## 1. Full-space VTI model for a finite length, finite strength, rotated bipole\n\nIn order to shorten the build-time of the gallery we use a coarse model.\nSet ``coarse_model = False`` to obtain a result of higher accuracy.\n\n"
      ]
    },
    {
      "cell_type": "code",
      "execution_count": null,
      "metadata": {
        "collapsed": false
      },
      "outputs": [],
      "source": [
        "coarse_model = True"
      ]
    },
    {
      "cell_type": "markdown",
      "metadata": {},
      "source": [
        "### Survey and model parameters\n\n"
      ]
    },
    {
      "cell_type": "code",
      "execution_count": null,
      "metadata": {
        "collapsed": false
      },
      "outputs": [],
      "source": [
        "# Receiver coordinates\nif coarse_model:\n    x = (np.arange(256))*20-2550\nelse:\n    x = (np.arange(1025))*5-2560\nrx = np.repeat([x, ], np.size(x), axis=0)\nry = rx.transpose()\nfrx, fry = rx.ravel(), ry.ravel()\nrz = -400.0\nazimuth = 33\nelevation = 18\n\n# Source coordinates, frequency, and strength\nsource = emg3d.TxElectricDipole(\n    coordinates=[-50, 50, -30, 30, -320., -280.],  # [x1, x2, y1, y2, z1, z2]\n    strength=3.1,  # A\n)\nsval = -7  # Laplace value\n\n# Model parameters\nh_res = 1.              # Horizontal resistivity\naniso = np.sqrt(2.)     # Anisotropy\nv_res = h_res*aniso**2  # Vertical resistivity"
      ]
    },
    {
      "cell_type": "markdown",
      "metadata": {},
      "source": [
        "### 1.a Regular VTI case\n\n### empymod\nNote: The coordinate system of empymod is positive z down, for emg3d it is\npositive z up. We have to switch therefore src_z, rec_z, and elevation.\n\n"
      ]
    },
    {
      "cell_type": "code",
      "execution_count": null,
      "metadata": {
        "collapsed": false
      },
      "outputs": [],
      "source": [
        "# Compute\nepm = empymod.bipole(\n    src=np.r_[source.coordinates[:4], -source.coordinates[4:]],\n    depth=[],\n    res=h_res,\n    aniso=aniso,\n    strength=source.strength,\n    srcpts=5,\n    freqtime=sval,\n    htarg={'pts_per_dec': -1},\n    rec=[frx, fry, -rz, azimuth, -elevation],\n    verb=3,\n).reshape(np.shape(rx))"
      ]
    },
    {
      "cell_type": "markdown",
      "metadata": {},
      "source": [
        "### emg3d\n\n"
      ]
    },
    {
      "cell_type": "code",
      "execution_count": null,
      "metadata": {
        "collapsed": false
      },
      "outputs": [],
      "source": [
        "if coarse_model:\n    min_width_limits = 40\n    stretching = [1.045, 1.045]\nelse:\n    min_width_limits = 20\n    stretching = [1.03, 1.045]\n\n# Create stretched grid\ngrid = emg3d.construct_mesh(\n    frequency=-sval,\n    properties=h_res,\n    center=source.center,\n    domain=([-2500, 2500], [-2500, 2500], [-1400, 700]),\n    min_width_limits=min_width_limits,\n    stretching=stretching,\n    center_on_edge=False,\n)\ngrid"
      ]
    },
    {
      "cell_type": "code",
      "execution_count": null,
      "metadata": {
        "collapsed": false
      },
      "outputs": [],
      "source": [
        "# Define the model\nmodel = emg3d.Model(\n    grid, property_x=h_res, property_z=v_res, mapping='Resistivity')\n\n# Compute the electric field\nefield = emg3d.solve_source(model, source, sval, verb=4, plain=True)"
      ]
    },
    {
      "cell_type": "markdown",
      "metadata": {},
      "source": [
        "### Plot\n\n"
      ]
    },
    {
      "cell_type": "code",
      "execution_count": null,
      "metadata": {
        "collapsed": false
      },
      "outputs": [],
      "source": [
        "e3d = efield.get_receiver((rx, ry, rz, azimuth, elevation))\n\n# Start figure.\na_kwargs = {'cmap': \"viridis\", 'vmin': -12, 'vmax': -6,\n            'shading': 'nearest'}\n\ne_kwargs = {'cmap': plt.get_cmap(\"RdBu_r\", 8),\n            'vmin': -2, 'vmax': 2, 'shading': 'nearest'}\n\nfig, axs = plt.subplots(1, 3, figsize=(11, 3), sharex=True, sharey=True,\n                        subplot_kw={'box_aspect': 1})\n\nax1, ax2, ax3 = axs\nx3 = x/1000  # km\n\n# Plot Re(data)\nax1.set_title(r\"(a) |empymod|\")\ncf0 = ax1.pcolormesh(x3, x3, np.log10(epm.amp()), **a_kwargs)\n\nax2.set_title(r\"(b) |emg3d|\")\nax2.pcolormesh(x3, x3, np.log10(e3d.amp()), **a_kwargs)\n\nax3.set_title(r\"(c) Error\")\nrel_error = 100*np.abs((epm - e3d) / epm)\ncf2 = ax3.pcolormesh(x3, x3, np.log10(rel_error), **e_kwargs)\n\n# Colorbars\nfig.colorbar(cf0, ax=axs[:2], label=r\"$\\log_{10}$ Amplitude (V/m)\")\ncbar = fig.colorbar(cf2, ax=ax3, label=r\"Relative Error\")\ncbar.set_ticks([-2, -1, 0, 1, 2])\ncbar.ax.set_yticklabels([r\"$0.01\\,\\%$\", r\"$0.1\\,\\%$\", r\"$1\\,\\%$\",\n                         r\"$10\\,\\%$\", r\"$100\\,\\%$\"])\n\nax1.set_xlim(min(x3), max(x3))\nax1.set_ylim(min(x3), max(x3))\n\n# Axis label\nax1.set_ylabel(\"Crossline Offset (km)\")\nax2.set_xlabel(\"Inline Offset (km)\")\n\nprint(f\"- Source: {source}\")\nprint(f\"- Frequency: {sval} Hz\")\nprint(f\"- Electric receivers: z={rz} m; \u03b8={azimuth}\u00b0, \u03c6={elevation}\u00b0\")"
      ]
    },
    {
      "cell_type": "code",
      "execution_count": null,
      "metadata": {
        "collapsed": false
      },
      "outputs": [],
      "source": [
        "emg3d.Report()"
      ]
    }
  ],
  "metadata": {
    "kernelspec": {
      "display_name": "Python 3",
      "language": "python",
      "name": "python3"
    },
    "language_info": {
      "codemirror_mode": {
        "name": "ipython",
        "version": 3
      },
      "file_extension": ".py",
      "mimetype": "text/x-python",
      "name": "python",
      "nbconvert_exporter": "python",
      "pygments_lexer": "ipython3",
      "version": "3.12.4"
    }
  },
  "nbformat": 4,
  "nbformat_minor": 0
}