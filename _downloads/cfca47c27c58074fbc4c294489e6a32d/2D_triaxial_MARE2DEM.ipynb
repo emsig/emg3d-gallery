{
  "cells": [
    {
      "cell_type": "code",
      "execution_count": null,
      "metadata": {
        "collapsed": false
      },
      "outputs": [],
      "source": [
        "%matplotlib widget"
      ]
    },
    {
      "cell_type": "markdown",
      "metadata": {},
      "source": [
        "\n# 2. MARE2DEM: 2D with tri-axial anisotropy\n\n``MARE2DEM`` is an open-source, finite element 2.5D code for controlled-source\nelectromagnetic (CSEM) and magnetotelluric (MT) data, see\n[mare2dem.bitbucket.io](https://mare2dem.bitbucket.io).\n\n\n<div class=\"alert alert-info\"><h4>Note</h4><p>The ``MARE2DEM`` results are pre-computed. All input files to reproduce the\n    results are available on\n    https://github.com/emsig/data/tree/main/emg3d/external/MARE2DEM .</p></div>\n"
      ]
    },
    {
      "cell_type": "code",
      "execution_count": null,
      "metadata": {
        "collapsed": false
      },
      "outputs": [],
      "source": [
        "import os\nimport pooch\nimport emg3d\nimport numpy as np\nimport matplotlib.pyplot as plt\nfrom matplotlib.colors import LogNorm\nplt.style.use('bmh')\n\n\n# Adjust this path to a folder of your choice.\ndata_path = os.path.join('..', 'download', '')"
      ]
    },
    {
      "cell_type": "markdown",
      "metadata": {},
      "source": [
        "## Fetch and load MARE2DEM result\n\n"
      ]
    },
    {
      "cell_type": "code",
      "execution_count": null,
      "metadata": {
        "collapsed": false
      },
      "outputs": [],
      "source": [
        "url = 'https://raw.github.com/emsig/data/2021-05-21/emg3d/external/MARE2DEM/'\nfname1 = 'triaxial.0.resp'\npooch.retrieve(\n    url + fname1,\n    '29ec8e3dbfc615bcb430df5cbd89fea6302bb3867d90ae969907314013dc871b',\n    fname=fname1,\n    path=data_path,\n)\nmar_tg = np.loadtxt(data_path + fname1, skiprows=93, usecols=6)\nmar_tg = mar_tg[::2] + 1j*mar_tg[1::2]\n\nfname2 = 'triaxial-BG.0.resp'\npooch.retrieve(\n    url + fname2,\n    '036f72e30b7794304c45ef73403cdd8318ca0fc5c2fdbe7d05a33731cf3f2cf6',\n    fname=fname2,\n    path=data_path,\n)\nmar_bg = np.loadtxt(data_path + fname2, skiprows=93, usecols=6)\nmar_bg = mar_bg[::2] + 1j*mar_bg[1::2]"
      ]
    },
    {
      "cell_type": "markdown",
      "metadata": {},
      "source": [
        "## emg3d\n\nIn order to shorten the build-time of the gallery we use a coarse model.\nSet ``coarse_model = False`` to obtain a result of higher accuracy.\n\n"
      ]
    },
    {
      "cell_type": "code",
      "execution_count": null,
      "metadata": {
        "collapsed": false
      },
      "outputs": [],
      "source": [
        "coarse_model = True\n\n# Source location [x, y, z, azimuth, elevation]\nsource = emg3d.TxElectricDipole((50, 0, -1950, 0, 0))\nrec = (np.arange(80)*100+2050, 0, -1999.9, 0, 0)\nfrequency = 0.5             # Frequency (Hz)"
      ]
    },
    {
      "cell_type": "code",
      "execution_count": null,
      "metadata": {
        "collapsed": false
      },
      "outputs": [],
      "source": [
        "if coarse_model:\n    min_width = 100\n    stretching = ([1.02, 1.5], [1.05, 1.5], [1, 1.5])\nelse:\n    min_width = 50\n    stretching = [1, 1.5]\n\n# Create grid.\ngrid = emg3d.construct_mesh(\n    frequency=frequency,\n    properties=[0.3, 1, 100],\n    center=(0, 0, -2000),\n    domain=([-100, 10100], [-1000, 1000], [-4200, 0]),\n    stretching=stretching,\n    min_width_limits=min_width,\n    center_on_edge=True,\n)\ngrid"
      ]
    },
    {
      "cell_type": "code",
      "execution_count": null,
      "metadata": {
        "collapsed": false
      },
      "outputs": [],
      "source": [
        "xx = (grid.cell_centers[:, 0] > 0)*(grid.cell_centers[:, 0] <= 6000)\nzz = (grid.cell_centers[:, 2] > -4200)*(grid.cell_centers[:, 2] < -4000)\n\n# Background\nres_x_full = 2*np.ones(grid.n_cells)\nres_y_full = 1*np.ones(grid.n_cells)\nres_z_full = 3*np.ones(grid.n_cells)\n\n# Water - isotropic\nres_x_full[grid.cell_centers[:, 2] >= -2000] = 0.3\nres_y_full[grid.cell_centers[:, 2] >= -2000] = 0.3\nres_z_full[grid.cell_centers[:, 2] >= -2000] = 0.3\n\n# Air - isotropic\nres_x_full[grid.cell_centers[:, 2] >= 0] = 1e10\nres_y_full[grid.cell_centers[:, 2] >= 0] = 1e10\nres_z_full[grid.cell_centers[:, 2] >= 0] = 1e10\n\n# Target\nres_x_full_tg = res_x_full.copy()\nres_y_full_tg = res_y_full.copy()\nres_z_full_tg = res_z_full.copy()\nres_x_full_tg[xx*zz] = 200\nres_y_full_tg[xx*zz] = 100\nres_z_full_tg[xx*zz] = 300\n\n# Collect models\nmodel_bg = emg3d.Model(\n        grid, property_x=res_x_full, property_y=res_y_full,\n        property_z=res_z_full, mapping='Resistivity')\nmodel_tg = emg3d.Model(\n        grid, property_x=res_x_full_tg, property_y=res_y_full_tg,\n        property_z=res_z_full_tg, mapping='Resistivity')\n\n# QC model\ngrid.plot_3d_slicer(\n        model_tg.property_x, zlim=[-6000, 500],\n        pcolor_opts={'norm': LogNorm(vmin=0.3, vmax=300)})"
      ]
    },
    {
      "cell_type": "markdown",
      "metadata": {},
      "source": [
        "### Model background\n\n"
      ]
    },
    {
      "cell_type": "code",
      "execution_count": null,
      "metadata": {
        "collapsed": false
      },
      "outputs": [],
      "source": [
        "efield_bg = emg3d.solve_source(model_bg, source, frequency)\ne3d_bg = efield_bg.get_receiver(rec)"
      ]
    },
    {
      "cell_type": "markdown",
      "metadata": {},
      "source": [
        "### Model target\n\n"
      ]
    },
    {
      "cell_type": "code",
      "execution_count": null,
      "metadata": {
        "collapsed": false
      },
      "outputs": [],
      "source": [
        "efield_tg = emg3d.solve_source(model_tg, source, frequency)\ne3d_tg = efield_tg.get_receiver(rec)"
      ]
    },
    {
      "cell_type": "markdown",
      "metadata": {},
      "source": [
        "## Plot\n\n"
      ]
    },
    {
      "cell_type": "code",
      "execution_count": null,
      "metadata": {
        "collapsed": false
      },
      "outputs": [],
      "source": [
        "def nrmsd(a, b):\n    \"\"\"Return Normalized Root-Mean-Square Difference.\"\"\"\n    return 200 * abs(a - b) / (abs(a) + abs(b))\n\n\nfig, axs = plt.subplots(\n        2, 2, figsize=(9, 5), sharex=True, sharey='row',\n        constrained_layout=True)\n((ax1, ax3), (ax2, ax4)) = axs\n\n# Real part\nax1.set_title(r'|Real|')\nax1.plot(rec[0]/1e3, 1e12*np.abs(mar_tg.real), 'C0-', label='MARE2DEM target')\nax1.plot(rec[0]/1e3, 1e12*np.abs(mar_bg.real), 'C1-', label='MARE2DEM BG')\nax1.plot(rec[0]/1e3, 1e12*np.abs(e3d_tg.real), 'k--')\nax1.plot(rec[0]/1e3, 1e12*np.abs(e3d_bg.real), 'k-.')\nax1.set_ylabel('$E_x$ (pV/m)')\nax1.set_yscale('log')\nax1.legend()\n\n# Normalized difference real\nax2.plot(rec[0]/1e3, nrmsd(mar_tg.real, e3d_tg.real), 'C0.')\nax2.plot(rec[0]/1e3, nrmsd(mar_bg.real, e3d_bg.real), 'C1.')\nax2.set_ylabel('Norm. Diff (%)')\nax2.set_xlabel('Offset (km)')\n\n# Imaginary part\nax3.set_title(r'|Imaginary|')\nax3.plot(rec[0]/1e3, 1e12*np.abs(mar_tg.imag), 'C0-')\nax3.plot(rec[0]/1e3, 1e12*np.abs(mar_bg.imag), 'C1-')\nax3.plot(rec[0]/1e3, 1e12*np.abs(e3d_tg.imag), 'k--', label='emg3d target')\nax3.plot(rec[0]/1e3, 1e12*np.abs(e3d_bg.imag), 'k-.', label='emg3d BG')\nax3.legend()\n\n# Normalized difference imag\nax4.plot(rec[0]/1e3, nrmsd(mar_tg.imag, e3d_tg.imag), 'C0.')\nax4.plot(rec[0]/1e3, nrmsd(mar_bg.imag, e3d_bg.imag), 'C1.')\nax4.set_xlabel('Offset (km)')\nax4.set_yscale('log')\nax4.set_ylim([8e-3, 120])\nax4.set_yticks([0.01, 0.1, 1, 10, 100])\nax4.set_yticklabels(('0.01', '0.1', '1', '10', '100'))"
      ]
    },
    {
      "cell_type": "code",
      "execution_count": null,
      "metadata": {
        "collapsed": false
      },
      "outputs": [],
      "source": [
        "emg3d.Report()"
      ]
    }
  ],
  "metadata": {
    "kernelspec": {
      "display_name": "Python 3",
      "language": "python",
      "name": "python3"
    },
    "language_info": {
      "codemirror_mode": {
        "name": "ipython",
        "version": 3
      },
      "file_extension": ".py",
      "mimetype": "text/x-python",
      "name": "python",
      "nbconvert_exporter": "python",
      "pygments_lexer": "ipython3",
      "version": "3.12.4"
    }
  },
  "nbformat": 4,
  "nbformat_minor": 0
}