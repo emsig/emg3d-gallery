{
  "cells": [
    {
      "cell_type": "code",
      "execution_count": null,
      "metadata": {
        "collapsed": false
      },
      "outputs": [],
      "source": [
        "%matplotlib widget"
      ]
    },
    {
      "cell_type": "markdown",
      "metadata": {},
      "source": [
        "\n# 10. Layered\n\nSince ``v1.8.0`` there exists the possibility to use locally approximated,\nlayered models together with ``empymod`` to compute responses and the gradient\ninstead of the 3D model with ``emg3d``.\n\nHere we look at this possibility by reproducing the example\n`sphx_glr_gallery_tutorials_gradient.py`. (Please note, however, that the\nlayered option does not only work for the gradient, but also for pure forward\nmodelling.)\n\nFor this example we use the resistivity model created in the example\n`sphx_glr_gallery_models_gempy-ii.py`, together with the survey created in\n`sphx_glr_gallery_tutorials_simulation.py`.\n\n\n## Limitations\n\nThe limitations of the layered modelling are:\n\n- Only point and dipole sources.\n- Only isotropic and VTI models.\n\nAlso, using the layered modelling has a few other implications, e.g.:\n\n- There are no {e;h}fields, only the fields at receiver locations.\n- ``gridding``, most of ``gridding_opts``, ``solver_opts``,\n  ``receiver_interpolation``, and ``file_dir`` have no effect.\n- The attribute :attr:`emg3d.simulations.Simulation.jvec` is not implemented.\n\n\n## Some considerations about speed\n\nIf you are concerned about speed take into account that using layered\ncomputations changes the things one has to consider.\n\n- \"Regular\" 3D:\n\n  - Linear with number of source-frequency pairs; parallelized over it.\n  - Depends on gridding options; linear in number of cells.\n  - Extra receivers at almost no extra cost.\n\n- \"Layered\" 1D:\n\n  - Linear with number of source-receiver pairs; parallelized over sources;\n    serial over receivers.\n  - Only for the gradient: depends linearly on the number of layers in the\n    provided model.\n  - Extra frequencies at little extra cost.\n"
      ]
    },
    {
      "cell_type": "code",
      "execution_count": null,
      "metadata": {
        "collapsed": false
      },
      "outputs": [],
      "source": [
        "import os\nimport pooch\nimport emg3d\nimport numpy as np\nimport matplotlib.pyplot as plt\nfrom matplotlib.colors import LogNorm, SymLogNorm\n\n# Adjust this path to a folder of your choice.\ndata_path = os.path.join('..', 'download', '')"
      ]
    },
    {
      "cell_type": "markdown",
      "metadata": {},
      "source": [
        "## Load survey, data, and model\n\nFirst we load the model, survey, and accompanying data as obtained in the\nexamples `sphx_glr_gallery_models_gempy-ii.py` and\n`sphx_glr_gallery_tutorials_simulation.py` (check these examples for\nmore information).\n\n"
      ]
    },
    {
      "cell_type": "code",
      "execution_count": null,
      "metadata": {
        "collapsed": false
      },
      "outputs": [],
      "source": [
        "isurvey = (\n    'GemPy-II-survey-A.h5',\n    '5f2ed0b959a4f80f5378a071e6f729c6b7446898be7689ddc9bbd100a8f5bce7',\n    'surveys',\n)\nimodel = (\n    'GemPy-II.h5',\n    'ea8c23be80522d3ca8f36742c93758370df89188816f50cb4e1b2a6a3012d659',\n    'models',\n)\n\n# Download model and survey.\nfor data in [isurvey, imodel]:\n    path = data[2]+'/'+data[0]\n    pooch.retrieve(\n        'https://raw.github.com/emsig/data/2021-05-21/emg3d/'+path,\n        data[1], fname=data[0], path=data_path,\n    )\n\n# Load them.\nsurvey = emg3d.load(os.path.join(data_path, isurvey[0]))['survey']\ntrue_model = emg3d.load(os.path.join(data_path, imodel[0]))['model']\ngrid = true_model.grid"
      ]
    },
    {
      "cell_type": "markdown",
      "metadata": {},
      "source": [
        "## Create an initial model\n\nTo create an initial model we take the true model, but set all subsurface\nresistivities to 1 Ohm.m. So we are left with a homogeneous three-layer model\nair-seawater-subsurface, which includes the topography of the seafloor.\n\n"
      ]
    },
    {
      "cell_type": "code",
      "execution_count": null,
      "metadata": {
        "collapsed": false
      },
      "outputs": [],
      "source": [
        "# Overwrite all subsurface resistivity values with 1.0\nmodel = true_model.copy()\nres = model.property_x\nsubsurface = (res > 0.5) & (res < 1000)\nres[subsurface] = 1.0\nmodel.property_x = res\n\n# QC the initial model and the survey.\npopts = {'norm': LogNorm(vmin=0.3, vmax=200)}\ngrid.plot_3d_slicer(\n    model.property_x, xslice=12000, yslice=7500, pcolor_opts=popts\n)\n\n# Plot survey in figure above\nfig = plt.gcf()\nfig.suptitle('Initial resistivity model (Ohm.m)')\naxs = fig.get_children()\nrec_coords = survey.receiver_coordinates()\nsrc_coords = survey.source_coordinates()\naxs[1].plot(rec_coords[0], rec_coords[1], 'bv')\naxs[2].plot(rec_coords[0], rec_coords[2], 'bv')\naxs[3].plot(rec_coords[2], rec_coords[1], 'bv')\naxs[1].plot(src_coords[0], src_coords[1], 'r*')\naxs[2].plot(src_coords[0], src_coords[2], 'r*')\naxs[3].plot(src_coords[2], src_coords[1], 'r*')"
      ]
    },
    {
      "cell_type": "markdown",
      "metadata": {},
      "source": [
        "## Options for layered computation\n\nIf ``layered=True``, one can provide a ``layered_opts``-dict to a simulation.\nFor more information about this see towards the end of this example. The\nsimulation uses some defaults values, if they are not provided. By default a\nlocal 1D model is generated by creating a right elliptic cylinder around\nsource and receiver position, and average the values for each layer within\nthis cylinder.\n\nYou can read more about the local extraction and the ellipse options in the\nfunctions :attr:`emg3d.models.Model.extract_1d` and\n:func:`emg3d.maps.ellipse_indices`.\n\nNote that using layered computations means that we do not have to provide any\ngridding options, as there is no gridding happening.\n\n## Create the Simulation\n\n"
      ]
    },
    {
      "cell_type": "code",
      "execution_count": null,
      "metadata": {
        "collapsed": false
      },
      "outputs": [],
      "source": [
        "simulation = emg3d.simulations.Simulation(\n    name=\"Initial Model\",\n    survey=survey,\n    model=model,\n    max_workers=4,\n    layered=True,            # Set layered to True!\n    # layered_opts=...,      # Parameters for the local 1D extractions.\n)\n\n# Let's QC our Simulation instance\nsimulation"
      ]
    },
    {
      "cell_type": "markdown",
      "metadata": {},
      "source": [
        "The simulation indicates that it uses layered computations with the method\n``'cylinder'`` and certain ellipse-parameters.\n\n## Compute Gradient\n\nLet's compute the gradient (with ``layered=True``!).\n\n"
      ]
    },
    {
      "cell_type": "code",
      "execution_count": null,
      "metadata": {
        "collapsed": false
      },
      "outputs": [],
      "source": [
        "grad = simulation.gradient"
      ]
    },
    {
      "cell_type": "markdown",
      "metadata": {},
      "source": [
        "### QC Gradient\n\n"
      ]
    },
    {
      "cell_type": "code",
      "execution_count": null,
      "metadata": {
        "collapsed": false
      },
      "outputs": [],
      "source": [
        "# Set the gradient of air and water to NaN.\n# This will eventually move directly into emgd3 (active and inactive cells).\ngrad[~subsurface] = np.nan\n\n\n# Plot the gradient\ngrid.plot_3d_slicer(\n    grad.ravel('F'), xslice=12000, yslice=7500, zslice=-4000,\n    pcolor_opts={\n        'cmap': 'RdBu_r',\n        'norm': SymLogNorm(linthresh=1e-2, base=10, vmin=-1e1, vmax=1e1)\n    }\n)\n\n# Add survey\nfig = plt.gcf()\nfig.suptitle('Gradient of the misfit function')\naxs = fig.get_children()\naxs[1].plot(rec_coords[0], rec_coords[1], 'bv')\naxs[2].plot(rec_coords[0], rec_coords[2], 'bv')\naxs[3].plot(rec_coords[2], rec_coords[1], 'bv')\naxs[1].plot(src_coords[0], src_coords[1], 'r*')\naxs[2].plot(src_coords[0], src_coords[2], 'r*')\naxs[3].plot(src_coords[2], src_coords[1], 'r*')"
      ]
    },
    {
      "cell_type": "markdown",
      "metadata": {},
      "source": [
        "Even though we use layered (1D) models, the gradient looks three dimensional.\nThis is because each source-receiver pair has its own cylinder, from which\nit generates a 1D model. The resulting gradient is then projected back to the\nsame cylinder. This yields, summing up all source-receiver pairs, a\nthree-dimensional gradient.\n\nNote that this gradient is obtained using the finite-difference method, by\nperturbing each layer by a tiny bit. This is in contrast to the gradient\nobtained with ``emg3d``, where the adjoint-state method is used.\n\nCompare this gradient to the adjoint-state gradient, obtained by true 3D\ncomputations, in example `sphx_glr_gallery_tutorials_gradient.py`.\n\n\n## A few words about the 1D model extraction\n\nThere are five possible methods: cylinder, prism, midpoint, source, and\nreceiver. However, in reality they reduce to really two different\npossibility:\n\n- ``'midpoint'``: If midpoint is chosen, the selected 1D model is simply the\n  column midway between the two provided points, usually source and receiver.\n  ``'source'`` and ``'receiver'`` only differ in that both points are set to\n  source or receiver, respectively, meaning that the column at source or\n  receiver location is selected.\n- ``'cylinder'``: If cylinder is chosen, a right elliptic cylinder around the\n  two points is selected. How the ellipse is selected depends on a few other\n  parameters, see functions :attr:`emg3d.models.Model.extract_1d` and\n  :func:`emg3d.maps.ellipse_indices`. The only difference for ``'prism'`` is\n  that it uses the rectangular, coordinate-system aligned envelope of the\n  ellipse.\n\nThe default values are: ``method='cylinder'``. The corresponding default\nvalues of the ellipse-options are ``factor=1.2``, ``minor=0.8``, and\n``radius`` is set to one skin depth using the lowest frequency and the\nlowest conductivity value in the lowest layer in vertical direction.\n\nLet's look at the default value the simulation has chosen in this case:\n\n"
      ]
    },
    {
      "cell_type": "code",
      "execution_count": null,
      "metadata": {
        "collapsed": false
      },
      "outputs": [],
      "source": [
        "lopts = simulation.layered_opts\nlopts"
      ]
    },
    {
      "cell_type": "markdown",
      "metadata": {},
      "source": [
        "So we see that it chose the default method ``'cylinder'``, the default values\n``factor=1.2`` and ``minor=0.8``, and the ``radius`` is set to roughly 712 m.\n\nWe select now one source and one receiver, to QC how the selected cylinder\nlooks like.\n\n"
      ]
    },
    {
      "cell_type": "code",
      "execution_count": null,
      "metadata": {
        "collapsed": false
      },
      "outputs": [],
      "source": [
        "src = survey.sources['TxED-1']\nrec = survey.receivers['RxEP-30']\n\nlayered, imat = true_model.extract_1d(\n    lopts['method'], src.center[:2], rec.center[:2], lopts['ellipse'],\n    return_imat=True\n)\n\nvalues = true_model.property_x.copy()\nvalues[~np.array(imat, dtype=bool), :] = np.nan\n\nxy = (src.center[:2] + rec.center[:2])/2\ngrid.plot_3d_slicer(\n    values, xslice=xy[0], yslice=xy[1], zslice=-4000, pcolor_opts=popts\n)\n\nfig = plt.gcf()\nfig.suptitle('Right elliptic cylinder for this source and receiver location')\naxs = fig.get_children()\n\naxs[1].plot(rec.center[0], rec.center[1], 'bv')\naxs[1].plot(src.center[0], src.center[1], 'r*')\naxs[2].plot(rec.center[0], rec.center[2], 'bv')\naxs[3].plot(rec.center[2], rec.center[1], 'bv')\naxs[2].plot(src.center[0], src.center[2], 'r*')\naxs[3].plot(src.center[2], src.center[1], 'r*')"
      ]
    },
    {
      "cell_type": "markdown",
      "metadata": {},
      "source": [
        "We can compare the five different methods, and see what 1D models they\nextract from the 3D model.\n\n"
      ]
    },
    {
      "cell_type": "code",
      "execution_count": null,
      "metadata": {
        "collapsed": false
      },
      "outputs": [],
      "source": [
        "fig, axs = plt.subplots(\n    1, 5, figsize=(9, 4), sharex=True, sharey=True, constrained_layout=True\n)\naxs = axs.ravel()\n\npdepth = np.repeat(true_model.grid.nodes_z[1:-1], 2)\n\nellipse = lopts['ellipse']\nmethods = ['source', 'receiver', 'midpoint', 'cylinder', 'prism']\nfor i, method in enumerate(methods):\n\n    axs[i].set_title(method)\n\n    p0 = src.center[:2]\n    p1 = rec.center[:2]\n\n    if method == 'source':\n        p1 = p0\n        method = 'midpoint'\n    elif method == 'receiver':\n        p0 = p1\n        method = 'midpoint'\n\n    oned = true_model.extract_1d(method, p0, p1, ellipse)\n\n    res = np.repeat(oned.property_x, 2)[1:-1]\n\n    axs[i].plot(res, pdepth)\n\naxs[0].set_xscale('log')\naxs[0].set_xlim([0.2, 60])"
      ]
    },
    {
      "cell_type": "markdown",
      "metadata": {},
      "source": [
        "## Ellipse\n\nAs mentioned before, the ellipse is selected using the function\n:func:`emg3d.maps.ellipse_indices`. The documentation of that function\ncontains a lot of useful information about it. However, here is a function\nthat illustrates the ellipse with all its parameters.\n\n"
      ]
    },
    {
      "cell_type": "code",
      "execution_count": null,
      "metadata": {
        "collapsed": false
      },
      "outputs": [],
      "source": [
        "def plot_ellipse(ax, p0, p1, radius, factor=1.0, minor=1.0, check_foci=True):\n    \"\"\"Plot annotated explanation of emg3d.maps.ellipse_ind().\"\"\"\n\n    # Cast input points to numpy arrays.\n    p0, p1 = np.array(p0), np.array(p1)\n\n    # Center coordinates\n    cx, cy = (p0 + p1) / 2\n\n    # Adjacent and opposite sides\n    dx, dy = (p1 - p0) / 2\n\n    # c: linear eccentricity\n    dxy = np.linalg.norm([dx, dy])\n\n    # a: semi-major axis\n    major = max(dxy * factor, dxy + radius)\n\n    # b: semi-minor axis\n    minor = max(minor * major, radius)\n    if check_foci:\n        minor = max(minor, np.sqrt(abs(major**2 - dxy**2)))\n\n    # Distance to foci\n    df = np.sqrt(major**2 - minor**2)\n\n    # Take care of division by zero\n    if dy == 0.0:\n        cos, sin = 1.0, 0.0\n    else:\n        cos, sin = dx/dxy, dy/dxy\n\n    # Parametrized ellipse\n    t = np.linspace(0, 2*np.pi, 101)\n    cost, sint = np.cos(t), np.sin(t)\n    x = cx + major*cos*cost - minor*sin*sint\n    y = cy + major*sin*cost + minor*cos*sint\n\n    # Verteces\n    vr = [cx + major*cos, cy + major*sin]\n    vl = [cx - major*cos, cy - major*sin]\n\n    # Upper co-vertex\n    vu = [cx - minor*sin, cy + minor*cos]\n\n    # Foci\n    fr = [cx + df*cos, cy + df*sin]\n    fl = [cx - df*cos, cy - df*sin]\n\n    # PLOTTING\n\n    # Title with radius and _actual_ minor factor.\n    ax.set_title(f\"r={radius:.1f}; \"\n                 f\"f={factor:.2f}; \"\n                 f\"m={1.0 if major == 0.0 else minor/major:.2f}\", fontsize=10)\n\n    # Draw a, b, c, and r\n    ax.plot([cx, vr[0]], [cy, vr[1]], 'C4', label=r'a = c + r')\n    ax.plot([cx, vu[0]], [cy, vu[1]], 'C3', label=r'b = minor \u00b7 a')\n    ax.plot([p0[0], cx], [p0[1], cy], 'C0', label=r'c = off / 2')\n    ax.plot([vl[0], p0[0]], [vl[1], p0[1]], 'C5', label=r'r = radius')\n\n    # Draw the two points and their circles with radius\n    for p in [p0, p1]:\n        ax.plot(*p, 'o', c='k', ms=8)\n        ax.plot(p[0] + radius*cost, p[1] + radius*sint, '.7')\n\n    # Draw the foci\n    ax.plot([fr[0], fl[0]], [fr[1], fl[1]], 'C2x', label='Foci')\n\n    # Draw the envelopping square\n    ax.plot([x.min(), x.max(), x.max(), x.min(), x.min()],\n            [y.min(), y.min(), y.max(), y.max(), y.min()], '.7')\n\n    # Draw the ellipse\n    ax.plot(x, y, 'C1')\n\n    # Ensure square axes\n    ax.axis('equal')"
      ]
    },
    {
      "cell_type": "markdown",
      "metadata": {},
      "source": [
        "Here the annotation for the above selection. However, you can use this\nfunction to test the influence of the different parameters.\n\n"
      ]
    },
    {
      "cell_type": "code",
      "execution_count": null,
      "metadata": {
        "collapsed": false
      },
      "outputs": [],
      "source": [
        "fig, ax = plt.subplots(constrained_layout=True)\nplot_ellipse(\n    ax,\n    p0=src.center[:2],\n    p1=rec.center[:2],\n    radius=lopts['ellipse']['radius'],\n    factor=lopts['ellipse']['factor'],\n    minor=lopts['ellipse']['minor'],\n)\nax.legend(bbox_to_anchor=(1.05, 0.7))"
      ]
    },
    {
      "cell_type": "code",
      "execution_count": null,
      "metadata": {
        "collapsed": false
      },
      "outputs": [],
      "source": [
        "emg3d.Report()"
      ]
    }
  ],
  "metadata": {
    "kernelspec": {
      "display_name": "Python 3",
      "language": "python",
      "name": "python3"
    },
    "language_info": {
      "codemirror_mode": {
        "name": "ipython",
        "version": 3
      },
      "file_extension": ".py",
      "mimetype": "text/x-python",
      "name": "python",
      "nbconvert_exporter": "python",
      "pygments_lexer": "ipython3",
      "version": "3.12.4"
    }
  },
  "nbformat": 4,
  "nbformat_minor": 0
}