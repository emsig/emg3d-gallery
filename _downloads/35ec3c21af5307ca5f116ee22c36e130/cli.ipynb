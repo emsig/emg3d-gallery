{
  "cells": [
    {
      "cell_type": "code",
      "execution_count": null,
      "metadata": {
        "collapsed": false
      },
      "outputs": [],
      "source": [
        "%matplotlib widget"
      ]
    },
    {
      "cell_type": "markdown",
      "metadata": {},
      "source": [
        "\n# 07. Command-line interface\n\nThe implemented command-line interface (CLI) can be powerful to use `emg3d`\nfrom any programming environment. It enables, for instance, to use `emg3d` as a\nforward modelling kernel in your inversion code running on a server. The\ncapabilities of the CLI are more limited than of the Python interface, but they\nare sufficient to compute the responses of a given `survey` for a provided\n`model`, and to compute the gradient of the misfit function.\n\nThe biggest difficulty to work with the CLI is, at the moment, the file\nformats, or better the lack of their documentation. Surveys, models, and grids\ncan be stored with `emg3d` to either h5, npz, or json files. The status of the\ndocumentation will improve towards the v1.0.0 release of `emg3d`. The \"easiest\"\nway at the moment is to generate such a file in Python, and reproduce its\nstructure in your language or program of choice. Please feel free to open an\nissue on GitHub if there are questions in this regard. The idea for the future\nis to go through https://github.com/softwareunderground/subsurface to interface\nto various file formats.\n"
      ]
    },
    {
      "cell_type": "code",
      "execution_count": null,
      "metadata": {
        "collapsed": false
      },
      "outputs": [],
      "source": [
        "import os\nimport pooch\nimport subprocess\n\n# Adjust this path to a folder of your choice.\ndata_path = os.path.join('..', 'download', '')"
      ]
    },
    {
      "cell_type": "markdown",
      "metadata": {},
      "source": [
        "Note that everything shown in this example is meant to be executed in a\nterminal, nothing is executed in Python. However, as this example gallery is\ngenerated in Python we have to use a work-around to show the functionality,\nthe function ``bash(command)``. You would execute the provided ``command`` in\nyour terminal.\n\n"
      ]
    },
    {
      "cell_type": "code",
      "execution_count": null,
      "metadata": {
        "collapsed": false
      },
      "outputs": [],
      "source": [
        "def bash(command):\n    \"Prints the `command`, executes it in bash, and prints the output.\"\"\"\n    # Print command\n    print(f\"$ {command}\")\n    # Move to data_path\n    command = f\"cd {data_path}; \" + command\n    # Carry out command\n    msg = subprocess.run(command, shell=True, stdout=subprocess.PIPE,\n                         stderr=subprocess.STDOUT)\n    # Print output\n    print(msg.stdout.decode())"
      ]
    },
    {
      "cell_type": "markdown",
      "metadata": {},
      "source": [
        "We have to fetch the example files. You can also download these manually or\nprovide your own survey, model, and parameter files.\n\n"
      ]
    },
    {
      "cell_type": "code",
      "execution_count": null,
      "metadata": {
        "collapsed": false
      },
      "outputs": [],
      "source": [
        "model = \"GemPy-II.h5\"\npooch.retrieve(\n    'https://raw.github.com/emsig/data/2021-05-21/emg3d/models/'+model,\n    'ea8c23be80522d3ca8f36742c93758370df89188816f50cb4e1b2a6a3012d659',\n    fname=model,\n    path=data_path,\n)\nsurvey = 'GemPy-II-survey-A.h5'\npooch.retrieve(\n    'https://raw.github.com/emsig/data/2021-05-21/emg3d/surveys/'+survey,\n    '5f2ed0b959a4f80f5378a071e6f729c6b7446898be7689ddc9bbd100a8f5bce7',\n    fname=survey,\n    path=data_path,\n)"
      ]
    },
    {
      "cell_type": "markdown",
      "metadata": {},
      "source": [
        "## Getting started - help\nThe best way to get started is, as with any bash command, to have a look at\nits in-built help.\n\n"
      ]
    },
    {
      "cell_type": "code",
      "execution_count": null,
      "metadata": {
        "collapsed": false
      },
      "outputs": [],
      "source": [
        "bash(\"emg3d --help\")"
      ]
    },
    {
      "cell_type": "markdown",
      "metadata": {},
      "source": [
        "## Configuration file\nThe CLI is driven by a configuration file, that is by default named\n``emg3d.cfg`` and must be in the same directory as you execute the command.\nIf it has a different name or a different location you have to provide the\nfull or relative path and filename as the first argument to ``emg3d``.\n\nThe configuration parameters are described in the documentation, consult\n[Manual -> CLI](https://emg3d.emsig.xyz/en/stable/manual/cli.html).\n\nLet's write a simple example file.\n\n"
      ]
    },
    {
      "cell_type": "code",
      "execution_count": null,
      "metadata": {
        "collapsed": false
      },
      "outputs": [],
      "source": [
        "with open(f\"{data_path}emg3d.cfg\", \"w\") as f:\n    f.write(\"\"\"[files]\nsurvey = GemPy-II-survey-A.h5\nmodel = GemPy-II.h5\noutput = emg3d_out.json\n\n[simulation]\nname = CLI Test\ngridding = single\n\n[solver_opts]\n# nothing specified\n\n[gridding_opts]\ncenter_on_edge = False\n\n[data]\nsources = TxED-1\nreceivers = RxEP-08, RxEP-38\nfrequencies = f-1\"\"\")"
      ]
    },
    {
      "cell_type": "markdown",
      "metadata": {},
      "source": [
        "The file defines the location of the survey and model files, the name and\nformat of the output file, and selects a source, two receivers, and a\nfrequency to compute.\n\n## Compute the forward responses\n\nWe just compute the forward response here, but the usage for the misfit or\nthe gradient is very similar. We use the most verbose version here, to see\nwhat it does internally.\n\n"
      ]
    },
    {
      "cell_type": "code",
      "execution_count": null,
      "metadata": {
        "collapsed": false
      },
      "outputs": [],
      "source": [
        "bash(\"emg3d --forward -vv\")"
      ]
    },
    {
      "cell_type": "markdown",
      "metadata": {},
      "source": [
        "## Generated files\n\nThe run created the files ``emg3d_out.json`` (name and file-type can be\nchanged in the config file), which contains the responses, and the file\n``emg3d_out.log`` with some information.\n\n"
      ]
    },
    {
      "cell_type": "code",
      "execution_count": null,
      "metadata": {
        "collapsed": false
      },
      "outputs": [],
      "source": [
        "bash(\"ls emg3d* -1\")"
      ]
    },
    {
      "cell_type": "markdown",
      "metadata": {},
      "source": [
        "## Log\n\nLet's have a look at the log, which is mostly the same as was printed above\nwith the verbosity flag:\n\n"
      ]
    },
    {
      "cell_type": "code",
      "execution_count": null,
      "metadata": {
        "collapsed": false
      },
      "outputs": [],
      "source": [
        "bash(\"cat emg3d_out.log\")"
      ]
    },
    {
      "cell_type": "markdown",
      "metadata": {},
      "source": [
        "## Result / output\n\nWe stored the output as a json-file, just so we can easily cat it. However,\nyou might want to use h5 files, as they are compressed. Note that json cannot\nstore complex numbers, so the responses are stored as ``[[Re], [Im]]``.\n\n"
      ]
    },
    {
      "cell_type": "code",
      "execution_count": null,
      "metadata": {
        "collapsed": false
      },
      "outputs": [],
      "source": [
        "bash(\"cat emg3d_out.json\")"
      ]
    },
    {
      "cell_type": "markdown",
      "metadata": {},
      "source": [
        "## Report\nThe report-command prints an extensive list of your python environment of\ncomponents which are important for `emg3d`. If you report an issue it helps a\nlot if you provide this info.\n\n"
      ]
    },
    {
      "cell_type": "code",
      "execution_count": null,
      "metadata": {
        "collapsed": false
      },
      "outputs": [],
      "source": [
        "bash(\"emg3d --report\")"
      ]
    }
  ],
  "metadata": {
    "kernelspec": {
      "display_name": "Python 3",
      "language": "python",
      "name": "python3"
    },
    "language_info": {
      "codemirror_mode": {
        "name": "ipython",
        "version": 3
      },
      "file_extension": ".py",
      "mimetype": "text/x-python",
      "name": "python",
      "nbconvert_exporter": "python",
      "pygments_lexer": "ipython3",
      "version": "3.12.4"
    }
  },
  "nbformat": 4,
  "nbformat_minor": 0
}