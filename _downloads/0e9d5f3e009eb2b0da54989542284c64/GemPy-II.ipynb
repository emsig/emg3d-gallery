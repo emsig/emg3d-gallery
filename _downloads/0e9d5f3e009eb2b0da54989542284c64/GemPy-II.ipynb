{
  "cells": [
    {
      "cell_type": "code",
      "execution_count": null,
      "metadata": {
        "collapsed": false
      },
      "outputs": [],
      "source": [
        "%matplotlib widget"
      ]
    },
    {
      "cell_type": "markdown",
      "metadata": {},
      "source": [
        "\n# GemPy-II: *Perth Basin*\n\nThis example is mainly about building a deep marine resistivity model that can\nbe used in other examples. There is not a lot of explanation. For more details\nregarding the integration of `GemPy` and `emg3d` see the\n`sphx_glr_gallery_models_gempy-i.py`, and make sure to consult the many\nuseful information over at [GemPy](https://www.gempy.org).\n\nThe model is based on the [Perth Basin Model](https://docs.gempy.org/examples/real/Perth_basin.html) from GemPy. We take\nthe model, assign resistivities to the lithologies, create a random topography,\nmove it 2 km down, fill it up with sea water, and add an air layer. The result\nis what is referred to in other examples as model `GemPy-II`, a synthetic,\ndeep-marine resistivity model.\n\nThis model is used in, e.g., `sphx_glr_gallery_tutorials_simulation.py`.\n\n<div class=\"alert alert-info\"><h4>Note</h4><p>The original model (*Perth_Basin*) hosted on\n    https://github.com/cgre-aachen/gempy_data is released under the [LGPL-3.0\n    License](https://www.gnu.org/licenses/lgpl-3.0.en.html).</p></div>\n"
      ]
    },
    {
      "cell_type": "code",
      "execution_count": null,
      "metadata": {
        "collapsed": false
      },
      "outputs": [],
      "source": [
        "import os\nimport emg3d\nimport pooch\nfrom matplotlib.colors import LogNorm\n\n# Adjust this path to a folder of your choice.\ndata_path = os.path.join('..', 'download', '')"
      ]
    },
    {
      "cell_type": "markdown",
      "metadata": {},
      "source": [
        "## Fetch the model\n\nRetrieve and load the pre-computed resistivity model.\n\n"
      ]
    },
    {
      "cell_type": "code",
      "execution_count": null,
      "metadata": {
        "collapsed": false
      },
      "outputs": [],
      "source": [
        "fname = \"GemPy-II.h5\"\npooch.retrieve(\n    'https://raw.github.com/emsig/data/2021-05-21/emg3d/models/'+fname,\n    'ea8c23be80522d3ca8f36742c93758370df89188816f50cb4e1b2a6a3012d659',\n    fname=fname,\n    path=data_path,\n)\nfmodel = emg3d.load(data_path + fname)['model']\nfgrid = fmodel.grid"
      ]
    },
    {
      "cell_type": "markdown",
      "metadata": {},
      "source": [
        "## QC resistivity model\n\n"
      ]
    },
    {
      "cell_type": "code",
      "execution_count": null,
      "metadata": {
        "collapsed": false
      },
      "outputs": [],
      "source": [
        "fgrid.plot_3d_slicer(\n    fmodel.property_x, zslice=-3000, xslice=12000,\n    pcolor_opts={'norm': LogNorm(vmin=0.3, vmax=100)}\n)"
      ]
    },
    {
      "cell_type": "markdown",
      "metadata": {},
      "source": [
        "## Reproduce the model\n\n<div class=\"alert alert-info\"><h4>Note</h4><p>The following sections are about how to reproduce the model. For this you\n    have to install ``gempy``. The code example and the ``GemPy-II.h5``-file\n    used in the gallery were created on 2021-05-21 with ``gempy=2.2.9`` and\n    ``pandas=1.2.4``.</p></div>\n\n\n## Get and initiate the *Perth Basin*\n\n```python\nimport gempy as gempy\nimport numpy as np\n\n# Initiate a model\ngeo_model = gempy.create_model('GemPy-II')\nurl_path = 'https://raw.githubusercontent.com/cgre-aachen/gempy_data/'\nurl_path += 'master/data/input_data/Perth_basin/'\npath_i = \"Paper_GU2F_sc_faults_topo_Points.csv\"\npath_o = \"Paper_GU2F_sc_faults_topo_Foliations.csv\"\n\npooch.retrieve(\n    url_path + path_i,\n    'f2964249dd941ceac35355beb78abd9c3189347fa6b845b6795240cc1a2f44d9',\n    fname=path_i,\n    path=data_path,\n)\npooch.retrieve(\n    url_path + path_o,\n   'a6566d5caa8ce2fdcd4e4cb0ca643602436ca697342afacb31b7f4bd1d17c83d',\n    fname=path_o,\n    path=data_path,\n)\n\n\n# Define the grid\nnx, ny, nz = 100, 100, 100\nextent = [337000, 400000, 6640000, 6710000, -12000, 1000]\n\n# Importing the data from CSV-files and setting extent and resolution\ngempy.init_data(\n    geo_model,\n    extent=extent,\n    resolution=[nx, ny, nz],\n    path_i=data_path + \"Paper_GU2F_sc_faults_topo_Points.csv\",\n    path_o=data_path + \"Paper_GU2F_sc_faults_topo_Foliations.csv\",\n)\n```\n"
      ]
    },
    {
      "cell_type": "markdown",
      "metadata": {},
      "source": [
        "## Initiate the stratigraphies and faults\n\n```python\n# We just follow the example here\ndel_surfaces = ['Cadda', 'Woodada_Kockatea', 'Cattamarra']\ngeo_model.delete_surfaces(del_surfaces)\n\n# Map the different series\ngempy.map_series_to_surfaces(\n    geo_model,\n    {\n        \"fault_Abrolhos_Transfer\": [\"Abrolhos_Transfer\"],\n        \"fault_Coomallo\": [\"Coomallo\"],\n        \"fault_Eneabba_South\": [\"Eneabba_South\"],\n        \"fault_Hypo_fault_W\": [\"Hypo_fault_W\"],\n        \"fault_Hypo_fault_E\": [\"Hypo_fault_E\"],\n        \"fault_Urella_North\": [\"Urella_North\"],\n        \"fault_Urella_South\": [\"Urella_South\"],\n        \"fault_Darling\": [\"Darling\"],\n        \"Sedimentary_Series\": ['Cretaceous', 'Yarragadee', 'Eneabba',\n                               'Lesueur', 'Permian']\n    }\n)\n\norder_series = [\"fault_Abrolhos_Transfer\",\n                \"fault_Coomallo\",\n                \"fault_Eneabba_South\",\n                \"fault_Hypo_fault_W\",\n                \"fault_Hypo_fault_E\",\n                \"fault_Urella_North\",\n                \"fault_Darling\",\n                \"fault_Urella_South\",\n                \"Sedimentary_Series\",\n                \"Basement\"]\n\n_ = geo_model.reorder_series(order_series)\n\n# Drop input data from the deleted series:\ngeo_model.surface_points.df.dropna(inplace=True)\ngeo_model.orientations.df.dropna(inplace=True)\n\n# Set faults\ngeo_model.set_is_fault([\"fault_Abrolhos_Transfer\",\n                        \"fault_Coomallo\",\n                        \"fault_Eneabba_South\",\n                        \"fault_Hypo_fault_W\",\n                        \"fault_Hypo_fault_E\",\n                        \"fault_Urella_North\",\n                        \"fault_Darling\",\n                        \"fault_Urella_South\"])\nfr = geo_model.faults.faults_relations_df.values\nfr[:, :-2] = False\n_ = geo_model.set_fault_relation(fr)\n```\n"
      ]
    },
    {
      "cell_type": "markdown",
      "metadata": {},
      "source": [
        "## Compute the model with GemPy\n\n```python\n# Set the interpolator.\ngempy.set_interpolator(\n    geo_model,\n    compile_theano=True,\n    theano_optimizer='fast_run',\n    gradient=False,\n    dtype='float32',\n    verbose=[]\n)\n\n# Compute it.\nsol = gempy.compute_model(geo_model, compute_mesh=True)\n\n# Get the solution at the internal grid points.\nsol = gempy.compute_model(geo_model)\n```\n"
      ]
    },
    {
      "cell_type": "markdown",
      "metadata": {},
      "source": [
        "## Assign resistivities to the id's\n\nWe define here a discretize mesh identical to the mesh used by GemPy, and\nsubsequently assign resistivities to the different lithologies.\n\nPlease note that these resistivities are made up, and do not necessarily\nrelate to the actual lithologies.\n\n```python\n# We create a mesh 20 km x 20 km x 5 km, starting at the origin.\n# As long as we have the same number of cells we can trick the grid\n# original into any grid we want.\nhx = np.ones(nx)*20000/nx\nhy = np.ones(ny)*20000/ny\nhz = np.ones(nz)*5000/nz\ngrid = emg3d.TensorMesh([hx, hy, hz], origin=(0, 0, -5000))\n\n# Make up some resistivities that might be interesting to model.\nids = np.round(sol.lith_block)\nres = np.ones(grid.n_cells)\nres[ids == 9] = 2.0    # Cretaceous\nres[ids == 10] = 1.0   # Yarragadee\nres[ids == 11] = 4.0   # Eneabba\nres[ids == 12] = 50.0  # Lesueur\nres[ids == 13] = 7.0   # Permian\nres[ids == 14] = 10.0  # Basement\n```\n"
      ]
    },
    {
      "cell_type": "markdown",
      "metadata": {},
      "source": [
        "## Topography\n\nCalls to ``geo_model.set_topography(source='random')`` create a random\ntopography every time. In order to have it reproducible we saved it once and\nload it now.\n\nOriginally it was created and stored like this:\n\n.. code::\n\n    out = geo_model.set_topography(source='random')\n    np.save(data_path + topo_name, topo)\n\n```python\n# Load the stored topography.\ntopo_name = 'GemPy-II-topo.npy'\ntopo_path = 'https://raw.github.com/emsig/data/2021-05-21/'\ntopo_path += 'emg3d/external/GemPy/'+topo_name\n\npooch.retrieve(\n    topo_path,\n    '10bb3d672ba26f6d8cb85eb33086daebb1c19bcbf9547c0b17d93f1c0dcf4e20',\n    fname=topo_name,\n    path=data_path,\n)\n\nout = geo_model.set_topography(\n        source='saved', filepath=data_path+topo_name, allow_pickle=True)\ntopo = out.topography.values_2d\n\n# Apply the topography to our resistivity cube.\nres = res.reshape(grid.shape_cells, order='C')\n\n# Get the scaling factor betw. original extent and our made-up extent.\nfact = 5000/np.diff(extent[4:])\n\n# Loop over all x-y-values and convert cells above topography to water.\nfor ix in range(nx):\n    for iy in range(ny):\n        res[ix, iy, grid.cell_centers_z > topo[ix, iy, 2]*fact] = 0.3\n```\n"
      ]
    },
    {
      "cell_type": "markdown",
      "metadata": {},
      "source": [
        "## Extend the model by sea water and air\n\n```python\n# Create an emg3d-model.\nmodel = emg3d.Model(grid, property_x=res.ravel('F'))\n\n# Add 2 km water and 500 m air.\nfhz = np.r_[np.ones(nz)*5000/nz, 2000, 500]\nz0 = -7000\n\n# Make the full mesh\nfgrid = emg3d.TensorMesh([hx, hy, fhz], origin=(0, 0, z0))\n\n# Extend the model.\nfmodel = emg3d.Model(fgrid, np.ones(fgrid.shape_cells))\nfmodel.property_x[:, :, :-2] = model.property_x\nfmodel.property_x[:, :, -2] = 0.3\nfmodel.property_x[:, :, -1] = 1e8\n\n# emg3d.save(data_path + 'GemPy-II.h5', model=fmodel)\n\nfgrid\n```\n"
      ]
    },
    {
      "cell_type": "markdown",
      "metadata": {},
      "source": [
        "## PyVista plot\n\n<div class=\"alert alert-info\"><h4>Note</h4><p>The final cell is about how to plot the model in 3D using PyVista,\n    for which you have to install ``pyvista``.\n\n    The code example was created on 2021-05-21 with ``pyvista=0.30.1``.</p></div>\n\n```python\nimport pyvista\nimport numpy as np\n\ndataset = fgrid.toVTK({'res': np.log10(fmodel.property_x.ravel('F'))})\n\n# Create the rendering scene and add a grid axes\np = pyvista.Plotter(notebook=True)\np.show_grid(location='outer')\n\n# Add spatially referenced data to the scene\ndparams = {'rng': np.log10([0.3, 500]), 'show_edges': False}\nxyz = (17500, 17500, -1500)\np.add_mesh(dataset.slice('x', xyz), name='x-slice', **dparams)\np.add_mesh(dataset.slice('y', xyz), name='y-slice', **dparams)\n\n# Add a layer as 3D\np.add_mesh(dataset.threshold(\n    [np.log10(49.9), np.log10(50.1)]), name='vol', **dparams)\n\n# Show the scene!\np.camera_position = [\n      (-10000, -41000, 8500), (10000, 10000, -3250), (0, 0, 1)\n]\np.show()\n```\n.. figure:: ../../_static/images/GemPy-II.png\n   :scale: 66 %\n   :align: center\n   :alt: GemPy-II model with PyVista\n   :name: gempy-ii\n\n"
      ]
    },
    {
      "cell_type": "code",
      "execution_count": null,
      "metadata": {
        "collapsed": false
      },
      "outputs": [],
      "source": [
        "emg3d.Report()"
      ]
    }
  ],
  "metadata": {
    "kernelspec": {
      "display_name": "Python 3",
      "language": "python",
      "name": "python3"
    },
    "language_info": {
      "codemirror_mode": {
        "name": "ipython",
        "version": 3
      },
      "file_extension": ".py",
      "mimetype": "text/x-python",
      "name": "python",
      "nbconvert_exporter": "python",
      "pygments_lexer": "ipython3",
      "version": "3.12.4"
    }
  },
  "nbformat": 4,
  "nbformat_minor": 0
}