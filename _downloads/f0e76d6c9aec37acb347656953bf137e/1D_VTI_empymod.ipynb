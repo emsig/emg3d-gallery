{
  "cells": [
    {
      "cell_type": "code",
      "execution_count": null,
      "metadata": {
        "collapsed": false
      },
      "outputs": [],
      "source": [
        "%matplotlib widget"
      ]
    },
    {
      "cell_type": "markdown",
      "metadata": {},
      "source": [
        "\n# 1. empymod: 1D VTI resistivity\n\nThe code ``empymod`` is an open-source code which can model CSEM responses for\na layered medium including VTI electrical anisotropy, see [emsig.xyz](https://emsig.xyz).\n\nContent:\n\n1. Full-space VTI model for a finite length, finite strength, rotated bipole.\n2. Layered model for a deep water model with a point dipole source.\n"
      ]
    },
    {
      "cell_type": "code",
      "execution_count": null,
      "metadata": {
        "collapsed": false
      },
      "outputs": [],
      "source": [
        "import emg3d\nimport empymod\nimport numpy as np\nimport matplotlib.pyplot as plt"
      ]
    },
    {
      "cell_type": "markdown",
      "metadata": {},
      "source": [
        "## 1. Full-space VTI model for a finite length, finite strength, rotated bipole\n\nIn order to shorten the build-time of the gallery we use a coarse model.\nSet ``coarse_model = False`` to obtain a result of higher accuracy.\n\n"
      ]
    },
    {
      "cell_type": "code",
      "execution_count": null,
      "metadata": {
        "collapsed": false
      },
      "outputs": [],
      "source": [
        "coarse_model = True"
      ]
    },
    {
      "cell_type": "markdown",
      "metadata": {},
      "source": [
        "### Survey and model parameters\n\n"
      ]
    },
    {
      "cell_type": "code",
      "execution_count": null,
      "metadata": {
        "collapsed": false
      },
      "outputs": [],
      "source": [
        "# Receiver coordinates\nif coarse_model:\n    x = (np.arange(256))*20-2550\nelse:\n    x = (np.arange(1025))*5-2560\nrx = np.repeat([x, ], np.size(x), axis=0)\nry = rx.transpose()\nfrx, fry = rx.ravel(), ry.ravel()\nrz = -400.0\nazimuth = 33\nelevation = 18\n\n# Source coordinates, frequency, and strength\nsource = emg3d.TxElectricDipole(\n    coordinates=[-50, 50, -30, 30, -320., -280.],  # [x1, x2, y1, y2, z1, z2]\n    strength=np.pi,  # A\n)\nfrequency = 1.1  # Hz\n\n# Model parameters\nh_res = 1.              # Horizontal resistivity\naniso = np.sqrt(2.)     # Anisotropy\nv_res = h_res*aniso**2  # Vertical resistivity"
      ]
    },
    {
      "cell_type": "markdown",
      "metadata": {},
      "source": [
        "### 1.a Regular VTI case\n\n### empymod\nNote: The coordinate system of empymod is positive z down, for emg3d it is\npositive z up. We have to switch therefore src_z, rec_z, and elevation.\n\n"
      ]
    },
    {
      "cell_type": "code",
      "execution_count": null,
      "metadata": {
        "collapsed": false
      },
      "outputs": [],
      "source": [
        "# Collect common input for empymod.\ninp = {\n    'src': np.r_[source.coordinates[:4], -source.coordinates[4:]],\n    'depth': [],\n    'res': h_res,\n    'aniso': aniso,\n    'strength': source.strength,\n    'srcpts': 5,\n    'freqtime': frequency,\n    'htarg': {'pts_per_dec': -1},\n}\n\n# Compute\nepm = empymod.bipole(\n    rec=[frx, fry, -rz, azimuth, -elevation], verb=3, **inp\n).reshape(np.shape(rx))"
      ]
    },
    {
      "cell_type": "markdown",
      "metadata": {},
      "source": [
        "### emg3d\n\n"
      ]
    },
    {
      "cell_type": "code",
      "execution_count": null,
      "metadata": {
        "collapsed": false
      },
      "outputs": [],
      "source": [
        "if coarse_model:\n    min_width_limits = 40\n    stretching = [1.045, 1.045]\nelse:\n    min_width_limits = 20\n    stretching = [1.03, 1.045]\n\n# Create stretched grid\ngrid = emg3d.construct_mesh(\n    frequency=frequency,\n    properties=h_res,\n    center=source.center,\n    domain=([-2500, 2500], [-2500, 2500], [-2900, 2100]),\n    min_width_limits=min_width_limits,\n    stretching=stretching,\n    lambda_from_center=True,\n    lambda_factor=0.8,\n    center_on_edge=False,\n)\ngrid"
      ]
    },
    {
      "cell_type": "code",
      "execution_count": null,
      "metadata": {
        "collapsed": false
      },
      "outputs": [],
      "source": [
        "# Define the model\nmodel = emg3d.Model(\n    grid, property_x=h_res, property_z=v_res, mapping='Resistivity')\n\n# Compute the electric field\nefield = emg3d.solve_source(model, source, frequency, verb=4, plain=True)"
      ]
    },
    {
      "cell_type": "markdown",
      "metadata": {},
      "source": [
        "### Plot function\n\n"
      ]
    },
    {
      "cell_type": "code",
      "execution_count": null,
      "metadata": {
        "collapsed": false
      },
      "outputs": [],
      "source": [
        "def plot(epm, e3d, title, vmin, vmax):\n\n    # Start figure.\n    a_kwargs = {'cmap': \"viridis\", 'vmin': vmin, 'vmax': vmax,\n                'shading': 'nearest'}\n\n    e_kwargs = {'cmap': plt.get_cmap(\"RdBu_r\", 8),\n                'vmin': -2, 'vmax': 2, 'shading': 'nearest'}\n\n    fig, axs = plt.subplots(2, 3, figsize=(10, 5.5), sharex=True, sharey=True,\n                            subplot_kw={'box_aspect': 1})\n\n    ((ax1, ax2, ax3), (ax4, ax5, ax6)) = axs\n    x3 = x/1000  # km\n\n    # Plot Re(data)\n    ax1.set_title(r\"(a) |Re(empymod)|\")\n    cf0 = ax1.pcolormesh(x3, x3, np.log10(epm.real.amp()), **a_kwargs)\n\n    ax2.set_title(r\"(b) |Re(emg3d)|\")\n    ax2.pcolormesh(x3, x3, np.log10(e3d.real.amp()), **a_kwargs)\n\n    ax3.set_title(r\"(c) Error real part\")\n    rel_error = 100*np.abs((epm.real - e3d.real) / epm.real)\n    cf2 = ax3.pcolormesh(x3, x3, np.log10(rel_error), **e_kwargs)\n\n    # Plot Im(data)\n    ax4.set_title(r\"(d) |Im(empymod)|\")\n    ax4.pcolormesh(x3, x3, np.log10(epm.imag.amp()), **a_kwargs)\n\n    ax5.set_title(r\"(e) |Im(emg3d)|\")\n    ax5.pcolormesh(x3, x3, np.log10(e3d.imag.amp()), **a_kwargs)\n\n    ax6.set_title(r\"(f) Error imaginary part\")\n    rel_error = 100*np.abs((epm.imag - e3d.imag) / epm.imag)\n    ax6.pcolormesh(x3, x3, np.log10(rel_error), **e_kwargs)\n\n    # Colorbars\n    unit = \"(V/m)\" if \"E\" in title else \"(A/m)\"\n    fig.colorbar(cf0, ax=axs[0, :], label=r\"$\\log_{10}$ Amplitude \"+unit)\n    cbar = fig.colorbar(cf2, ax=axs[1, :], label=r\"Relative Error\")\n    cbar.set_ticks([-2, -1, 0, 1, 2])\n    cbar.ax.set_yticklabels([r\"$0.01\\,\\%$\", r\"$0.1\\,\\%$\", r\"$1\\,\\%$\",\n                             r\"$10\\,\\%$\", r\"$100\\,\\%$\"])\n\n    ax1.set_xlim(min(x3), max(x3))\n    ax1.set_ylim(min(x3), max(x3))\n\n    # Axis label\n    fig.text(0.4, 0.05, \"Inline Offset (km)\", fontsize=14)\n    fig.text(0.05, 0.3, \"Crossline Offset (km)\", rotation=90, fontsize=14)\n    fig.suptitle(title, y=1, fontsize=20)\n\n    print(f\"- Source: {source}\")\n    print(f\"- Frequency: {frequency} Hz\")\n    rtype = \"Electric\" if \"E\" in title else \"Magnetic\"\n    print(f\"- {rtype} receivers: z={rz} m; \u03b8={azimuth}\u00b0, \u03c6={elevation}\u00b0\")"
      ]
    },
    {
      "cell_type": "markdown",
      "metadata": {},
      "source": [
        "### Plot\n\n"
      ]
    },
    {
      "cell_type": "code",
      "execution_count": null,
      "metadata": {
        "collapsed": false
      },
      "outputs": [],
      "source": [
        "e3d = efield.get_receiver((rx, ry, rz, azimuth, elevation))\nplot(epm, e3d, r'Diffusive Fullspace $E$', vmin=-12, vmax=-6)"
      ]
    },
    {
      "cell_type": "markdown",
      "metadata": {},
      "source": [
        "## 2. Layered model for a deep water model with a point dipole source\n\n### Survey and model parameters\n\n"
      ]
    },
    {
      "cell_type": "code",
      "execution_count": null,
      "metadata": {
        "collapsed": false
      },
      "outputs": [],
      "source": [
        "# Receiver coordinates\nif coarse_model:\n    x = (np.arange(256))*20-2550\nelse:\n    x = (np.arange(1025))*5-2560\nrx = np.repeat([x, ], np.size(x), axis=0)\nry = rx.transpose()\nfrx, fry = rx.ravel(), ry.ravel()\nrz = -950.0\nazimuth = 30\nelevation = 5\n\n# Source coordinates and frequency\nsource = emg3d.TxElectricDipole(coordinates=[0, 0, -900, 0, 0])\nfrequency = 1.0  # Hz\n\n# Model parameters\nh_res = [1, 50, 1, 0.3, 1e12]     # Horizontal resistivity\naniso = np.sqrt([2, 2, 2, 1, 1])  # Anisotropy\nv_res = h_res*aniso**2            # Vertical resistivity\ndepth = np.array([-2200, -2000, -1000, 0])  # Layer boundaries"
      ]
    },
    {
      "cell_type": "markdown",
      "metadata": {},
      "source": [
        "### empymod\n\n"
      ]
    },
    {
      "cell_type": "code",
      "execution_count": null,
      "metadata": {
        "collapsed": false
      },
      "outputs": [],
      "source": [
        "epm_d = empymod.bipole(\n    src=source.coordinates,\n    depth=depth,\n    res=h_res,\n    aniso=aniso,\n    freqtime=frequency,\n    htarg={'pts_per_dec': -1},\n    rec=[frx, fry, rz, azimuth, elevation],\n    verb=3,\n).reshape(np.shape(rx))"
      ]
    },
    {
      "cell_type": "markdown",
      "metadata": {},
      "source": [
        "### emg3d\n\n"
      ]
    },
    {
      "cell_type": "code",
      "execution_count": null,
      "metadata": {
        "collapsed": false
      },
      "outputs": [],
      "source": [
        "if coarse_model:\n    min_width_limits = 40\nelse:\n    min_width_limits = 20\n\n# Create stretched grid\ngrid = emg3d.construct_mesh(\n    frequency=frequency,\n    properties=[h_res[3], h_res[0]],\n    center=source.center,\n    domain=([-2500, 2500], [-2500, 2500], None),\n    vector=(None, None, -2200 + np.arange(111)*20),\n    min_width_limits=min_width_limits,\n    stretching=[1.1, 1.5],\n    center_on_edge=False,\n)\ngrid"
      ]
    },
    {
      "cell_type": "code",
      "execution_count": null,
      "metadata": {
        "collapsed": false
      },
      "outputs": [],
      "source": [
        "# Create the model: horizontal resistivity\nres_x_full = h_res[0]*np.ones(grid.n_cells)  # Background\nres_x_full[grid.cell_centers[:, 2] >= depth[0]] = h_res[1]  # Target\nres_x_full[grid.cell_centers[:, 2] >= depth[1]] = h_res[2]  # Overburden\nres_x_full[grid.cell_centers[:, 2] >= depth[2]] = h_res[3]  # Water\nres_x_full[grid.cell_centers[:, 2] >= depth[3]] = h_res[4]  # Air\n\n# Create the model: vertical resistivity\nres_z_full = v_res[0]*np.ones(grid.n_cells)  # Background\nres_z_full[grid.cell_centers[:, 2] >= depth[0]] = v_res[1]\nres_z_full[grid.cell_centers[:, 2] >= depth[1]] = v_res[2]\nres_z_full[grid.cell_centers[:, 2] >= depth[2]] = v_res[3]\nres_z_full[grid.cell_centers[:, 2] >= depth[3]] = v_res[4]\n\n# Get the model\nmodel = emg3d.Model(\n        grid, property_x=res_x_full, property_z=res_z_full,\n        mapping='Resistivity')"
      ]
    },
    {
      "cell_type": "code",
      "execution_count": null,
      "metadata": {
        "collapsed": false
      },
      "outputs": [],
      "source": [
        "# Compute the electric field\nefield = emg3d.solve_source(model, source, frequency, verb=4)"
      ]
    },
    {
      "cell_type": "markdown",
      "metadata": {},
      "source": [
        "### Plot\n\n"
      ]
    },
    {
      "cell_type": "code",
      "execution_count": null,
      "metadata": {
        "collapsed": false
      },
      "outputs": [],
      "source": [
        "e3d_d = efield.get_receiver((rx, ry, rz, azimuth, elevation))\nplot(epm_d, e3d_d, r'Deep water point dipole $E$', vmin=-14, vmax=-8)"
      ]
    },
    {
      "cell_type": "code",
      "execution_count": null,
      "metadata": {
        "collapsed": false
      },
      "outputs": [],
      "source": [
        "emg3d.Report()"
      ]
    }
  ],
  "metadata": {
    "kernelspec": {
      "display_name": "Python 3",
      "language": "python",
      "name": "python3"
    },
    "language_info": {
      "codemirror_mode": {
        "name": "ipython",
        "version": 3
      },
      "file_extension": ".py",
      "mimetype": "text/x-python",
      "name": "python",
      "nbconvert_exporter": "python",
      "pygments_lexer": "ipython3",
      "version": "3.12.4"
    }
  },
  "nbformat": 4,
  "nbformat_minor": 0
}