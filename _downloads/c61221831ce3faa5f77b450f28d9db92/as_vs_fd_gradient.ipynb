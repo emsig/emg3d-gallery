{
  "cells": [
    {
      "cell_type": "code",
      "execution_count": null,
      "metadata": {
        "collapsed": false
      },
      "outputs": [],
      "source": [
        "%matplotlib widget"
      ]
    },
    {
      "cell_type": "markdown",
      "metadata": {},
      "source": [
        "\n# 4. Adjoint-state vs. FD gradient\n\nThe **gradient of the misfit function**, as implemented in `emg3d`, uses the\nadjoint-state method following [PlMu08]_ (see\n:attr:`emg3d.simulations.Simulation.gradient`). The method has the advantage\nthat it is very fast. However, it can be tricky to implement and it is always\ngood to verify the implementation against another method.\n\nWe compare in this example the adjoint-state gradient to a simple forward\nfinite-difference gradient. (See `sphx_glr_gallery_tutorials_gradient.py`\nfor more details regarding the adjoint-state gradient.)\n"
      ]
    },
    {
      "cell_type": "code",
      "execution_count": null,
      "metadata": {
        "collapsed": false
      },
      "outputs": [],
      "source": [
        "import emg3d\nimport itertools\nimport numpy as np\nimport matplotlib.pyplot as plt\nfrom matplotlib.patches import Rectangle\nfrom matplotlib.colors import LogNorm, SymLogNorm"
      ]
    },
    {
      "cell_type": "markdown",
      "metadata": {},
      "source": [
        "## 1. Create a survey and a simple model\n\nCreate a simple block model and a survey for the comparison.\n\n### Survey\nThe survey consists of one source, one receiver, both electric, x-directed\npoint-dipoles, where the receiver is on the seafloor and the source 50 m\nabove. Offset is 3.2 km, and acquisition frequency is 1 Hz.\n\n"
      ]
    },
    {
      "cell_type": "code",
      "execution_count": null,
      "metadata": {
        "collapsed": false
      },
      "outputs": [],
      "source": [
        "survey = emg3d.surveys.Survey(\n    name='Gradient Test-Survey',\n    sources=emg3d.TxElectricDipole((-1600, 0, -1950, 0, 0)),\n    receivers=emg3d.RxElectricPoint((1600, 0, -2000, 0, 0)),\n    frequencies=1.0,\n    noise_floor=1e-15,\n    relative_error=0.05,\n)"
      ]
    },
    {
      "cell_type": "markdown",
      "metadata": {},
      "source": [
        "### Model\n\nAs `emg3d` internally computes with conductivities we use conductivities to\ncompare the gradient in its purest implementation. Note that if we define our\nmodel in terms of resistivities or $\\log_{\\{e;10\\}}(\\{\\sigma;\\rho\\})$,\nthe gradient would look differently.\n\n"
      ]
    },
    {
      "cell_type": "code",
      "execution_count": null,
      "metadata": {
        "collapsed": false
      },
      "outputs": [],
      "source": [
        "# Create a simple block model.\nhx = np.array([1000, 1500, 1000, 1500, 1000])\nhy = np.array([1000, 1500, 1000, 1500, 1000])\nhz = np.array([1800., 200., 200., 200., 300., 300., 2000.,  500.])\nmodel_grid = emg3d.TensorMesh(\n        [hx, hy, hz], origin=np.array([-3000, -3000, -5000]))\n\n# Initiate model with conductivities of 1 S/m.\nmodel = emg3d.Model(\n        model_grid, np.ones(model_grid.n_cells), mapping='Conductivity')\nmodel.property_x[:, :, -1] = 1e-8  # Add air layer.\nmodel.property_x[:, :, -2] = 3.33  # Add seawater layer.\nmodel_bg = model.copy()  # Make a copy for the background model.\n\n# Add three blocks.\nmodel.property_x[1, 1:3, 1:3] = 0.02\nmodel.property_x[3, 2:4, 2:4] = 0.01\nmodel.property_x[2, 1:4, 4] = 0.005"
      ]
    },
    {
      "cell_type": "markdown",
      "metadata": {},
      "source": [
        "### QC\n\n"
      ]
    },
    {
      "cell_type": "code",
      "execution_count": null,
      "metadata": {
        "collapsed": false
      },
      "outputs": [],
      "source": [
        "model_grid.plot_3d_slicer(model.property_x.ravel('F'), zslice=-2900,\n                          pcolor_opts={'norm': LogNorm(vmin=0.002, vmax=3.5)})\n\nplt.suptitle('Conductivity (S/m)')\naxs = plt.gcf().get_children()\nrec_coords = survey.receiver_coordinates()\nsrc_coords = survey.source_coordinates()\naxs[1].plot(rec_coords[0], rec_coords[1], 'bv')\naxs[2].plot(rec_coords[0], rec_coords[2], 'bv')\naxs[3].plot(rec_coords[2], rec_coords[1], 'bv')\naxs[1].plot(src_coords[0], src_coords[1], 'r*')\naxs[2].plot(src_coords[0], src_coords[2], 'r*')\naxs[3].plot(src_coords[2], src_coords[1], 'r*')"
      ]
    },
    {
      "cell_type": "markdown",
      "metadata": {},
      "source": [
        "## Generate synthetic data\n\n"
      ]
    },
    {
      "cell_type": "code",
      "execution_count": null,
      "metadata": {
        "collapsed": false
      },
      "outputs": [],
      "source": [
        "# Gridding options.\ngridding_opts = {\n    'frequency': survey.frequencies['f-1'],\n    'properties': [3.33, 1, 1, 3.33],\n    'center': (0, 0, -2000),\n    'min_width_limits': 100,\n    'domain': ([-2000, 2000], [-2000, 2000], [-3200, -2000]),\n    'mapping': model.map,\n    'center_on_edge': True,\n}\n\ndata_grid = emg3d.construct_mesh(**gridding_opts)\n\n# Define a simulation for the data.\nsimulation_data = emg3d.simulations.Simulation(\n    name='Data for Gradient Test',\n    survey=survey,\n    model=model.interpolate_to_grid(data_grid),\n    gridding='same',  # Same grid as for input model.\n    max_workers=4,\n)\n\n# Simulate the data and store them as observed.\nsimulation_data.compute(observed=True)\n\n# Let's print the survey to check that the observed data are now set.\nsurvey"
      ]
    },
    {
      "cell_type": "markdown",
      "metadata": {},
      "source": [
        "## Adjoint-state gradient\n\nFor the actual comparison we use a very coarse mesh. The reason is that we\nhave to compute an extra forward model for each cell for the forward\nfinite-difference approximation, so we try to keep that number low (even\nthough we only do a cross-section, not the entire cube).\n\nOur computational grid has only 16,384 cells, which should be fast enough to\ncompute the FD gradient of a cross-section in a few minutes. A\ncross-section along the survey-line has $32 \\times 11 = 352$ cells, so\nwe need to compute an extra 352 forward models. (There are 16 cells in z, but\nonly 11 below the seafloor.)\n\n"
      ]
    },
    {
      "cell_type": "code",
      "execution_count": null,
      "metadata": {
        "collapsed": false
      },
      "outputs": [],
      "source": [
        "# Computational grid (min_width 200 instead of 100).\ncomp_grid_opts = {**gridding_opts, 'min_width_limits': 200}\ncomp_grid = emg3d.construct_mesh(**comp_grid_opts)\n\n# Interpolate the background model onto the computational grid.\ncomp_model = model_bg.interpolate_to_grid(comp_grid)\n\n# AS gradient simulation.\nsimulation_as = emg3d.simulations.Simulation(\n    name='AS Gradient Test',\n    survey=survey,\n    model=comp_model,\n    gridding='same',  # Same grid as for input model.\n    max_workers=4,    # For parallel workers, adjust if you have more.\n    receiver_interpolation='linear',  # For proper adjoint-state gradient\n)\n\nsimulation_as"
      ]
    },
    {
      "cell_type": "code",
      "execution_count": null,
      "metadata": {
        "collapsed": false
      },
      "outputs": [],
      "source": [
        "# Get the misfit and the gradient of the misfit.\ndata_misfit = simulation_as.misfit\nas_grad = simulation_as.gradient\n\n# Set water and air gradient to NaN for the plots.\nas_grad[:, :, comp_grid.cell_centers_z > -2000] = np.nan"
      ]
    },
    {
      "cell_type": "markdown",
      "metadata": {},
      "source": [
        "## Finite-Difference gradient\n\nTo test if the adjoint-state gradient indeed returns the gradient we can\ncompare it to a one-sided finite-difference approximated gradient as given by\n\n\\begin{align}\\left(\\nabla_p J \\left(\\textbf{p}\\right)\\right)_{FD} =\n        \\frac{J(\\textbf{p}+\\epsilon) - J(\\textbf{p})}{\\epsilon} \\ .\\end{align}\n\n### Define a fct to compute FD gradient for one cell\n\n"
      ]
    },
    {
      "cell_type": "code",
      "execution_count": null,
      "metadata": {
        "collapsed": false
      },
      "outputs": [],
      "source": [
        "# Define epsilon (some small conductivity value, S/m).\nepsilon = 0.0001\n\n# Define the cross-section.\niy = comp_grid.shape_cells[1]//2\n\n\ndef comp_fd_grad(ixiz):\n    \"\"\"Compute forward-FD gradient for one cell.\"\"\"\n\n    # Copy the computational model.\n    fd_model = comp_model.copy()\n\n    # Add conductivity-epsilon to this (ix, iy, iz) cell.\n    fd_model.property_x[ixiz[0], iy, ixiz[1]] += epsilon\n\n    # Create a new simulation with this model\n    simulation_fd = emg3d.simulations.Simulation(\n        name='FD Gradient Test',\n        survey=survey, model=fd_model, gridding='same',\n        max_workers=1, solver_opts={'verb': 1},\n        receiver_interpolation='linear',  # For proper adjoint-state gradient\n    )\n\n    # Switch-of progress bar in this case\n    simulation_fd._tqdm_opts['disable'] = True\n\n    # Get misfit\n    fd_data_misfit = simulation_fd.misfit\n\n    # Return gradient\n    return float((fd_data_misfit - data_misfit)/epsilon)"
      ]
    },
    {
      "cell_type": "markdown",
      "metadata": {},
      "source": [
        "### Loop over all required cells\n\n"
      ]
    },
    {
      "cell_type": "code",
      "execution_count": null,
      "metadata": {
        "collapsed": false
      },
      "outputs": [],
      "source": [
        "# Initiate FD gradient.\nfd_grad = np.zeros_like(as_grad)\n\n# Get all ix-iz combinations (without air/water).\nixiz = list(itertools.product(\n    range(comp_grid.shape_cells[0]),\n    range(len(comp_grid.cell_centers_z[comp_grid.cell_centers_z < -2000])))\n)\n\n# Wrap it asynchronously\nout = emg3d._multiprocessing.process_map(\n        comp_fd_grad,\n        ixiz,\n        max_workers=4,  # Adjust max worker here!\n)\n\n# Collect result\nfor i, (ix, iz) in enumerate(ixiz):\n    fd_grad[ix, iy, iz] = out[i]"
      ]
    },
    {
      "cell_type": "markdown",
      "metadata": {},
      "source": [
        "### Compare the two gradients\n\n"
      ]
    },
    {
      "cell_type": "code",
      "execution_count": null,
      "metadata": {
        "collapsed": false
      },
      "outputs": [],
      "source": [
        "# Compute NRMSD between AS and FD (%).\nnrmsd = 200*abs(as_grad-fd_grad)/(abs(as_grad)+abs(fd_grad))\nnrmsd[fd_grad == 0] = np.nan\n\n# Compute sign.\ntiny = np.finfo(float).tiny  # Avoid division by zero.\ndiff_sign = np.sign(as_grad/np.where(abs(fd_grad) < tiny, tiny, fd_grad))\n\n\ndef plot_diff(ax, diff):\n    \"\"\"Helper routine to show cells of big NRMSD or different sign.\"\"\"\n\n    for ix in range(comp_grid.h[0].size):\n        for iz in range(comp_grid.h[2].size):\n\n            if diff_sign[ix, iy, iz] < 0:\n                ax.add_patch(\n                        Rectangle(\n                            (comp_grid.nodes_x[ix], comp_grid.nodes_z[iz]),\n                            comp_grid.h[0][ix], comp_grid.h[2][iz], fill=False,\n                            color='k', lw=1))\n\n            if nrmsd[ix, iy, iz] >= diff:\n                ax.add_patch(\n                        Rectangle(\n                            (comp_grid.nodes_x[ix], comp_grid.nodes_z[iz]),\n                            comp_grid.h[0][ix], comp_grid.h[2][iz], fill=False,\n                            color='m', linestyle='--', lw=0.5))\n\n\ndef set_axis(axs, i):\n    \"\"\"Helper routine to adjust subplots.\"\"\"\n\n    # Show source and receiver.\n    axs[i].plot(rec_coords[0], rec_coords[2], 'bv')\n    axs[i].plot(src_coords[0], src_coords[2], 'r*')\n\n    # x-label.\n    axs[i].set_xlabel('Easting')\n\n    # y-label depending on column.\n    if i == 0:\n        axs[i].set_ylabel('Depth')\n    else:\n        axs[i].set_ylabel('')\n        axs[i].axes.yaxis.set_ticklabels([])\n\n    # Set limits.\n    axs[i].set_xlim(-3000, 3000)\n    axs[i].set_ylim(-4000, -1900)\n\n\n# Plotting options.\nvmin, vmax = 1e-2, 1e1\npcolor_opts = {'cmap': 'RdBu_r',\n               'norm': SymLogNorm(linthresh=vmin, base=10,\n                                  vmin=-vmax, vmax=vmax)}\n\nfig, axs = plt.subplots(\n        figsize=(9, 6), nrows=1, ncols=2, constrained_layout=True)\n\n# Adjoint-State Gradient\nf0 = comp_grid.plot_slice(as_grad, normal='Y', ind=iy, ax=axs[0],\n                          pcolor_opts=pcolor_opts)\naxs[0].set_title(\"Adjoint-State Gradient\")\nset_axis(axs, 0)\nplot_diff(axs[0], 1)\n\n# Finite-Difference Gradient\nf1 = comp_grid.plot_slice(fd_grad, normal='Y', ind=iy, ax=axs[1],\n                          pcolor_opts=pcolor_opts)\naxs[1].set_title(\"Finite-Difference Gradient\")\nset_axis(axs, 1)\nplot_diff(axs[1], 1)\n\nfig.colorbar(f0[0], ax=axs, orientation='horizontal', fraction=0.05)"
      ]
    },
    {
      "cell_type": "markdown",
      "metadata": {},
      "source": [
        "Visually the two gradients are almost identical. This is amazing, given that\nthe adjoint-state gradient requires one (1) extra forward computation for the\nentire cube, whereas the finite-difference gradient requires one extra\nforward computation for each cell, for this cross-section 352 (!).\n\nThere are differences, and they are highlighted:\n\n  - Cells surrounded by a dashed, magenta line: NRMSD is bigger than 1 %.\n  - Cells surrounded by a black line: The two gradients have different signs.\n\nThese differences only happen where the amplitude of the gradient is very\nsmall, and it therefore blows the NRMSD numerically up (inherit problem of\nthe relative error when the signal approaches zero).\n\n"
      ]
    },
    {
      "cell_type": "code",
      "execution_count": null,
      "metadata": {
        "collapsed": false
      },
      "outputs": [],
      "source": [
        "emg3d.Report()"
      ]
    }
  ],
  "metadata": {
    "kernelspec": {
      "display_name": "Python 3",
      "language": "python",
      "name": "python3"
    },
    "language_info": {
      "codemirror_mode": {
        "name": "ipython",
        "version": 3
      },
      "file_extension": ".py",
      "mimetype": "text/x-python",
      "name": "python",
      "nbconvert_exporter": "python",
      "pygments_lexer": "ipython3",
      "version": "3.12.4"
    }
  },
  "nbformat": 4,
  "nbformat_minor": 0
}