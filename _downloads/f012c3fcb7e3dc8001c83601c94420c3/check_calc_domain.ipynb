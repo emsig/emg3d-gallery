{
  "cells": [
    {
      "cell_type": "code",
      "execution_count": null,
      "metadata": {
        "collapsed": false
      },
      "outputs": [],
      "source": [
        "%matplotlib widget"
      ]
    },
    {
      "cell_type": "markdown",
      "metadata": {},
      "source": [
        "\n# 08. Ensure computation domain is big enough\n\nEnsure the boundary in $\\pm x$, $\\pm y$, and $+ z$ is big\nenough for $\\rho_\\text{air}$.\n\nThe air is very resistive, and EM waves propagate at the speed of light as a\nwave, not diffusive any longer. The whole concept of skin depth does therefore\nnot apply to the air layer. The only attenuation is caused by geometrical\nspreading. In order to not have any effects from the boundary one has to choose\nthe air layer appropriately.\n\nThe important bit is that the resistivity of air has to be taken into account\nalso for the horizontal directions, not only for positive $z$ (upwards\ninto the sky). This is an example to test boundaries on a simple marine model\n(air, water, subsurface) and compare them to the 1D result.\n"
      ]
    },
    {
      "cell_type": "code",
      "execution_count": null,
      "metadata": {
        "collapsed": false
      },
      "outputs": [],
      "source": [
        "import emg3d\nimport empymod\nimport numpy as np\nimport matplotlib.pyplot as plt\nfrom matplotlib.colors import LogNorm\nplt.style.use('ggplot')"
      ]
    },
    {
      "cell_type": "markdown",
      "metadata": {},
      "source": [
        "## Model, Survey, and Analytical Solution\n\n"
      ]
    },
    {
      "cell_type": "code",
      "execution_count": null,
      "metadata": {
        "collapsed": false
      },
      "outputs": [],
      "source": [
        "water_depth = 500                        # 500 m water depth\noffsets = np.linspace(2000, 7000, 501)   # Offsets\nsrc_coo = [0, 0, -water_depth+50, 0, 0]  # Src at origin, 50 m above seafloor\nrec_coo = [offsets, offsets*0, -water_depth, 0, 0]  # Receivers on the seafloor\ndepth = [-water_depth, 0]                # Simple model\nresistivity = [1, 0.3, 1e8]              # Simple model\nfrequency = 0.1                          # Frequency\n\nsource = emg3d.TxElectricDipole(src_coo)\n\n# Compute analytical solution\nepm = empymod.bipole(src_coo, rec_coo, depth, resistivity, frequency)"
      ]
    },
    {
      "cell_type": "markdown",
      "metadata": {},
      "source": [
        "## 3D Modelling\n\n"
      ]
    },
    {
      "cell_type": "code",
      "execution_count": null,
      "metadata": {
        "collapsed": false
      },
      "outputs": [],
      "source": [
        "# Parameter we keep the same for both grids\ngrid_inp = {\n    'frequency': frequency,\n    'center': [src_coo[0], src_coo[1], -water_depth-100],\n    'domain': ([src_coo[0]-500, offsets[-1]+500],\n               [src_coo[1], src_coo[1]],\n               [-600, 100]),\n    'seasurface': 0,\n    'min_width_limits': 100,\n    'stretching': [1, 1.25],\n    'lambda_from_center': True,\n    'center_on_edge': True,\n    'verb': 1,\n}"
      ]
    },
    {
      "cell_type": "markdown",
      "metadata": {},
      "source": [
        "## 1st grid, only considering air resistivity for +z\n\nHere we are in the water, so the signal is attenuated before it enters the\nair. So we don't use the resistivity of air to compute the required\nboundary, but 100 Ohm.m instead. (100 is the result of a quick parameter test\nwith $\\rho=1e4, 1e3, 1e2, 1e1$, and the result was that after 100 there\nis not much improvement any longer.)\n\nAlso note that the function :func:`emg3d.meshes.construct_mesh` internally\nuses six times the skin depth for the boundary. For $\\rho$ = 100 Ohm.m\nand $f$ = 0.1 Hz, the skin depth $\\delta$ is roughly 16 km, which\ntherefore results in a boundary of roughly 96 km.\n\nSee the documentation of :func:`emg3d.meshes.get_hx_h0` for more information\non how the grid is created.\n\n"
      ]
    },
    {
      "cell_type": "code",
      "execution_count": null,
      "metadata": {
        "collapsed": false
      },
      "outputs": [],
      "source": [
        "grid_1 = emg3d.construct_mesh(\n    properties=[resistivity[1], resistivity[0], resistivity[0], 100],\n    **grid_inp,\n)\ngrid_1"
      ]
    },
    {
      "cell_type": "code",
      "execution_count": null,
      "metadata": {
        "collapsed": false
      },
      "outputs": [],
      "source": [
        "# Create corresponding model\nres_1 = resistivity[0]*np.ones(grid_1.n_cells)\nres_1[grid_1.cell_centers[:, 2] > -water_depth] = resistivity[1]\nres_1[grid_1.cell_centers[:, 2] > 0] = resistivity[2]\nmodel_1 = emg3d.Model(grid_1, property_x=res_1, mapping='Resistivity')\n\n# QC\ngrid_1.plot_3d_slicer(\n        np.log10(model_1.property_x), zlim=(-2000, 100), clim=[-1, 2])\n\n# Solve the system\nefield_1 = emg3d.solve_source(model_1, source, frequency, verb=3)"
      ]
    },
    {
      "cell_type": "markdown",
      "metadata": {},
      "source": [
        "## 2nd grid, considering air resistivity for +/- x, +/- y, and +z\n\nSee comments below the heading of the 1st grid regarding boundary.\n\n"
      ]
    },
    {
      "cell_type": "code",
      "execution_count": null,
      "metadata": {
        "collapsed": false
      },
      "outputs": [],
      "source": [
        "grid_2 = emg3d.construct_mesh(\n    properties=[resistivity[1], resistivity[0], 100],\n    **grid_inp,\n)\ngrid_2"
      ]
    },
    {
      "cell_type": "code",
      "execution_count": null,
      "metadata": {
        "collapsed": false
      },
      "outputs": [],
      "source": [
        "# Create corresponding model\nres_2 = resistivity[0]*np.ones(grid_2.n_cells)\nres_2[grid_2.cell_centers[:, 2] > -water_depth] = resistivity[1]\nres_2[grid_2.cell_centers[:, 2] > 0] = resistivity[2]\nmodel_2 = emg3d.Model(grid_2, property_x=res_2, mapping='Resistivity')\n\n# QC\n# grid_2.plot_3d_slicer(\n#         np.log10(model_2.property_x), zlim=(-2000, 100), clim=[-1, 2])\n\n# Define source and solve the system\nefield_2 = emg3d.solve_source(model_2, source, frequency, verb=3)"
      ]
    },
    {
      "cell_type": "markdown",
      "metadata": {},
      "source": [
        "## Plot receiver responses\n\n"
      ]
    },
    {
      "cell_type": "code",
      "execution_count": null,
      "metadata": {
        "collapsed": false
      },
      "outputs": [],
      "source": [
        "# Interpolate fields at receiver positions\nemg_1 = efield_1.get_receiver(tuple(rec_coo))\nemg_2 = efield_2.get_receiver(tuple(rec_coo))"
      ]
    },
    {
      "cell_type": "code",
      "execution_count": null,
      "metadata": {
        "collapsed": false
      },
      "outputs": [],
      "source": [
        "plt.figure(figsize=(10, 7), constrained_layout=True)\n\n# Real, log-lin\nax1 = plt.subplot(321)\nplt.title('(a) lin-lin Real')\nplt.plot(offsets/1e3, epm.real, 'k', lw=2, label='analytical')\nplt.plot(offsets/1e3, emg_1.real, 'C0--', label='grid 1')\nplt.plot(offsets/1e3, emg_2.real, 'C1:', label='grid 2')\nplt.ylabel('$E_x$ (V/m)')\nplt.legend()\n\n# Real, log-symlog\nax3 = plt.subplot(323, sharex=ax1)\nplt.title('(c) lin-symlog Real')\nplt.plot(offsets/1e3, epm.real, 'k')\nplt.plot(offsets/1e3, emg_1.real, 'C0--')\nplt.plot(offsets/1e3, emg_2.real, 'C1:')\nplt.ylabel('$E_x$ (V/m)')\nplt.yscale('symlog', linthresh=1e-15)\n\n# Real, error\nax5 = plt.subplot(325, sharex=ax3)\nplt.title('(e) clipped 0.01-10')\n\n# Compute the error\nerr_real_1 = np.clip(100*abs((epm.real-emg_1.real)/epm.real), 0.01, 10)\nerr_real_2 = np.clip(100*abs((epm.real-emg_2.real)/epm.real), 0.01, 10)\n\nplt.ylabel('Rel. error %')\nplt.plot(offsets/1e3, err_real_1, 'C0--')\nplt.plot(offsets/1e3, err_real_2, 'C1:')\nplt.axhline(1, color='.4')\n\nplt.yscale('log')\nplt.ylim([0.008, 12])\nplt.xlabel('Offset (km)')\n\n# Imaginary, log-lin\nax2 = plt.subplot(322)\nplt.title('(b) lin-lin Imag')\nplt.plot(offsets/1e3, epm.imag, 'k')\nplt.plot(offsets/1e3, emg_1.imag, 'C0--')\nplt.plot(offsets/1e3, emg_2.imag, 'C1:')\n\n# Imaginary, log-symlog\nax4 = plt.subplot(324, sharex=ax2)\nplt.title('(d) lin-symlog Imag')\nplt.plot(offsets/1e3, epm.imag, 'k')\nplt.plot(offsets/1e3, emg_1.imag, 'C0--')\nplt.plot(offsets/1e3, emg_2.imag, 'C1:')\n\nplt.yscale('symlog', linthresh=1e-15)\n\n# Imaginary, error\nax6 = plt.subplot(326, sharex=ax2)\nplt.title('(f) clipped 0.01-10')\n\n# Compute error\nerr_imag_1 = np.clip(100*abs((epm.imag-emg_1.imag)/epm.imag), 0.01, 10)\nerr_imag_2 = np.clip(100*abs((epm.imag-emg_2.imag)/epm.imag), 0.01, 10)\n\nplt.plot(offsets/1e3, err_imag_1, 'C0--')\nplt.plot(offsets/1e3, err_imag_2, 'C1:')\nplt.axhline(1, color='.4')\n\nplt.yscale('log')\nplt.ylim([0.008, 12])\nplt.xlabel('Offset (km)')"
      ]
    },
    {
      "cell_type": "markdown",
      "metadata": {},
      "source": [
        "## Plot entire fields to analyze and compare\n\n### 1st grid\n\nUpper plot shows the entire grid. One can see that the airwave attenuates to\namplitudes in the order of 1e-17 at the boundary, absolutely good enough.\nHowever, the amplitudes in the horizontal directions are very high even at\nthe boundaries $\\pm x$ and $\\pm y$.\n\n"
      ]
    },
    {
      "cell_type": "code",
      "execution_count": null,
      "metadata": {
        "collapsed": false
      },
      "outputs": [],
      "source": [
        "grid_1.plot_3d_slicer(\n    efield_1.fx.ravel('F'), view='abs', v_type='Ex',\n    xslice=src_coo[0], yslice=src_coo[1], zslice=rec_coo[2],\n    pcolor_opts={'norm': LogNorm(vmin=1e-17, vmax=1e-9)})\ngrid_1.plot_3d_slicer(\n    efield_1.fx.ravel('F'), view='abs', v_type='Ex',\n    zlim=[-5000, 1000],\n    xslice=src_coo[0], yslice=src_coo[1], zslice=rec_coo[2],\n    pcolor_opts={'norm': LogNorm(vmin=1e-17, vmax=1e-9)})"
      ]
    },
    {
      "cell_type": "markdown",
      "metadata": {},
      "source": [
        "### 2nd grid\n\nAgain, upper plot shows the entire grid. One can see that the field\nattenuated sufficiently in all directions. Lower plot shows the same cut-out\nas the lower plot for the first grid, our zone of interest.\n\n"
      ]
    },
    {
      "cell_type": "code",
      "execution_count": null,
      "metadata": {
        "collapsed": false
      },
      "outputs": [],
      "source": [
        "grid_2.plot_3d_slicer(\n    efield_2.fx.ravel('F'), view='abs', v_type='Ex',\n    xslice=src_coo[0], yslice=src_coo[1], zslice=rec_coo[2],\n    pcolor_opts={'norm': LogNorm(vmin=1e-17, vmax=1e-9)})\ngrid_2.plot_3d_slicer(\n    efield_2.fx.ravel('F'), view='abs', v_type='Ex',\n    xlim=[grid_1.nodes_x[0], grid_1.nodes_x[-1]],  # Same square as grid_1\n    ylim=[grid_1.nodes_y[0], grid_1.nodes_y[-1]],  # Same square as grid_1\n    zlim=[-5000, 1000],\n    xslice=src_coo[0], yslice=src_coo[1], zslice=rec_coo[2],\n    pcolor_opts={'norm': LogNorm(vmin=1e-17, vmax=1e-9)})"
      ]
    },
    {
      "cell_type": "code",
      "execution_count": null,
      "metadata": {
        "collapsed": false
      },
      "outputs": [],
      "source": [
        "emg3d.Report()"
      ]
    }
  ],
  "metadata": {
    "kernelspec": {
      "display_name": "Python 3",
      "language": "python",
      "name": "python3"
    },
    "language_info": {
      "codemirror_mode": {
        "name": "ipython",
        "version": 3
      },
      "file_extension": ".py",
      "mimetype": "text/x-python",
      "name": "python",
      "nbconvert_exporter": "python",
      "pygments_lexer": "ipython3",
      "version": "3.12.4"
    }
  },
  "nbformat": 4,
  "nbformat_minor": 0
}