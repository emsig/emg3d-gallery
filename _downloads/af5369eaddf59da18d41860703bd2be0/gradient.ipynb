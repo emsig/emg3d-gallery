{
  "cells": [
    {
      "cell_type": "code",
      "execution_count": null,
      "metadata": {
        "collapsed": false
      },
      "outputs": [],
      "source": [
        "%matplotlib widget"
      ]
    },
    {
      "cell_type": "markdown",
      "metadata": {},
      "source": [
        "\n# 04. Gradient of the misfit function\n\nA basic example how to use the :attr:`emg3d.simulations.Simulation.gradient`\nroutine to compute the adjoint-state gradient of the misfit function. Here we\njust show its usage.\n\nFor this example we use the survey and data as obtained in the example\n`sphx_glr_gallery_tutorials_simulation.py`.\n"
      ]
    },
    {
      "cell_type": "code",
      "execution_count": null,
      "metadata": {
        "collapsed": false
      },
      "outputs": [],
      "source": [
        "import os\nimport pooch\nimport emg3d\nimport numpy as np\nimport matplotlib.pyplot as plt\nfrom matplotlib.colors import LogNorm, SymLogNorm\n\n\n# Adjust this path to a folder of your choice.\ndata_path = os.path.join('..', 'download', '')"
      ]
    },
    {
      "cell_type": "markdown",
      "metadata": {},
      "source": [
        "## Load survey and data\n\nFirst we load the survey and accompanying data as obtained in the example\n`sphx_glr_gallery_tutorials_simulation.py`.\n\n"
      ]
    },
    {
      "cell_type": "code",
      "execution_count": null,
      "metadata": {
        "collapsed": false
      },
      "outputs": [],
      "source": [
        "fname = 'GemPy-II-survey-A.h5'\npooch.retrieve(\n    'https://raw.github.com/emsig/data/2021-05-21/emg3d/surveys/'+fname,\n    '5f2ed0b959a4f80f5378a071e6f729c6b7446898be7689ddc9bbd100a8f5bce7',\n    fname=fname,\n    path=data_path,\n)\nsurvey = emg3d.load(data_path + fname)['survey']\n\n# Let's have a look\nsurvey"
      ]
    },
    {
      "cell_type": "markdown",
      "metadata": {},
      "source": [
        "We can see that the survey consists of three sources, 45 receivers, and two\nfrequencies.\n\n## Create an initial model\n\nTo create an initial model we load the true model, but set all subsurface\nresistivities to 1 Ohm.m. So we are left with a homogeneous three-layer model\nair-seawater-subsurface, which includes the topography of the seafloor.\n\n"
      ]
    },
    {
      "cell_type": "code",
      "execution_count": null,
      "metadata": {
        "collapsed": false
      },
      "outputs": [],
      "source": [
        "# Load true model\nfname = \"GemPy-II.h5\"\npooch.retrieve(\n    'https://raw.github.com/emsig/data/2021-05-21/emg3d/models/'+fname,\n    'ea8c23be80522d3ca8f36742c93758370df89188816f50cb4e1b2a6a3012d659',\n    fname=fname,\n    path=data_path,\n)\nmodel = emg3d.load(data_path + fname)['model']\ngrid = model.grid"
      ]
    },
    {
      "cell_type": "code",
      "execution_count": null,
      "metadata": {
        "collapsed": false
      },
      "outputs": [],
      "source": [
        "# Overwrite all subsurface resistivity values with 1.0\nres = model.property_x\nsubsurface = (res > 0.5) & (res < 1000)\nres[subsurface] = 1.0\nmodel.property_x = res\n\n# QC the initial model and the survey.\ngrid.plot_3d_slicer(model.property_x, xslice=12000, yslice=7500,\n                    pcolor_opts={'norm': LogNorm(vmin=0.3, vmax=200)})\n\n# Plot survey in figure above\nfig = plt.gcf()\nfig.suptitle('Initial resistivity model (Ohm.m)')\naxs = fig.get_children()\nrec_coords = survey.receiver_coordinates()\nsrc_coords = survey.source_coordinates()\naxs[1].plot(rec_coords[0], rec_coords[1], 'bv')\naxs[2].plot(rec_coords[0], rec_coords[2], 'bv')\naxs[3].plot(rec_coords[2], rec_coords[1], 'bv')\naxs[1].plot(src_coords[0], src_coords[1], 'r*')\naxs[2].plot(src_coords[0], src_coords[2], 'r*')\naxs[3].plot(src_coords[2], src_coords[1], 'r*')"
      ]
    },
    {
      "cell_type": "markdown",
      "metadata": {},
      "source": [
        "## Options for automatic gridding\n\n\n"
      ]
    },
    {
      "cell_type": "code",
      "execution_count": null,
      "metadata": {
        "collapsed": false
      },
      "outputs": [],
      "source": [
        "gridding_opts = {\n    'center': (src_coords[0][1], src_coords[1][1], -2200),\n    'properties': [0.3, 10, 1, 0.3],\n    'domain': (\n        [rec_coords[0].min()-100, rec_coords[0].max()+100],\n        [rec_coords[1].min()-100, rec_coords[1].max()+100],\n        [-5500, -2000]\n    ),\n    'min_width_limits': (100, 100, 50),\n    'stretching': (None, None, [1.05, 1.5]),\n    'center_on_edge': False,\n}"
      ]
    },
    {
      "cell_type": "markdown",
      "metadata": {},
      "source": [
        "## Create the Simulation\n\n"
      ]
    },
    {
      "cell_type": "code",
      "execution_count": null,
      "metadata": {
        "collapsed": false
      },
      "outputs": [],
      "source": [
        "simulation = emg3d.simulations.Simulation(\n    name=\"Initial Model\",    # A name for this simulation\n    survey=survey,           # Our survey instance\n    model=model,             # The model\n    gridding='both',         # Src- and freq-dependent grids\n    max_workers=4,           # How many parallel jobs\n    # solver_opts=...,       # Any parameter to pass to emg3d.solve\n    gridding_opts=gridding_opts,\n    receiver_interpolation='linear',  # For proper adjoint-state gradient\n)\n\n# Let's QC our Simulation instance\nsimulation"
      ]
    },
    {
      "cell_type": "markdown",
      "metadata": {},
      "source": [
        "## Compute Gradient\n\n"
      ]
    },
    {
      "cell_type": "code",
      "execution_count": null,
      "metadata": {
        "collapsed": false
      },
      "outputs": [],
      "source": [
        "grad = simulation.gradient"
      ]
    },
    {
      "cell_type": "markdown",
      "metadata": {},
      "source": [
        "### QC Gradient\n\n"
      ]
    },
    {
      "cell_type": "code",
      "execution_count": null,
      "metadata": {
        "collapsed": false
      },
      "outputs": [],
      "source": [
        "# Set the gradient of air and water to NaN.\n# This will eventually move directly into emgd3 (active and inactive cells).\ngrad[~subsurface] = np.nan\n\n\n# Plot the gradient\ngrid.plot_3d_slicer(\n        grad.ravel('F'), xslice=12000, yslice=7500, zslice=-4000,\n        pcolor_opts={'cmap': 'RdBu_r',\n                     'norm': SymLogNorm(\n                         linthresh=1e-2, base=10, vmin=-1e1, vmax=1e1)}\n        )\n\n# Add survey\nfig = plt.gcf()\nfig.suptitle('Gradient of the misfit function')\naxs = fig.get_children()\naxs[1].plot(rec_coords[0], rec_coords[1], 'bv')\naxs[2].plot(rec_coords[0], rec_coords[2], 'bv')\naxs[3].plot(rec_coords[2], rec_coords[1], 'bv')\naxs[1].plot(src_coords[0], src_coords[1], 'r*')\naxs[2].plot(src_coords[0], src_coords[2], 'r*')\naxs[3].plot(src_coords[2], src_coords[1], 'r*')"
      ]
    },
    {
      "cell_type": "code",
      "execution_count": null,
      "metadata": {
        "collapsed": false
      },
      "outputs": [],
      "source": [
        "emg3d.Report()"
      ]
    }
  ],
  "metadata": {
    "kernelspec": {
      "display_name": "Python 3",
      "language": "python",
      "name": "python3"
    },
    "language_info": {
      "codemirror_mode": {
        "name": "ipython",
        "version": 3
      },
      "file_extension": ".py",
      "mimetype": "text/x-python",
      "name": "python",
      "nbconvert_exporter": "python",
      "pygments_lexer": "ipython3",
      "version": "3.12.4"
    }
  },
  "nbformat": 4,
  "nbformat_minor": 0
}