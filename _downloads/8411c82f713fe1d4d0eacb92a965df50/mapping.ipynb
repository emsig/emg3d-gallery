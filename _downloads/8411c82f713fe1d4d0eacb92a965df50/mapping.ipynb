{
  "cells": [
    {
      "cell_type": "code",
      "execution_count": null,
      "metadata": {
        "collapsed": false
      },
      "outputs": [],
      "source": [
        "%matplotlib widget"
      ]
    },
    {
      "cell_type": "markdown",
      "metadata": {},
      "source": [
        "\n# 02. Model property mapping\n\n\nPhysical rock properties (and their units) can be a tricky thing. And `emg3d`\nis no difference in this respect. It was first developed for oil and gas,\nhaving resistive bodies in mind. You will therefore find that the documentation\noften talks about resistivity (Ohm.m). However, internally the computation is\ncarried out in conductivities (S/m), so resistivities are converted into\nconductivities internally. For the simple forward model this is not a big\nissue, as the output is simply the electromagnetic field. However, moving over\nto optimization makes things more complicated, as the gradient of the misfit\nfunction, for instance, depends on the parametrization.\n\nSince `emg3d v0.12.0` it is therefore possible to define a\n:class:`emg3d.models.Model` in different ways, thanks to different maps,\ndefined with the parameter ``mapping``. Currently implemented are six different\nmaps:\n\n- ``'Resistivity'``: $\\rho$ (Ohm.m), the default;\n- ``'LgResistivity'``: $\\log_{10}(\\rho)$;\n- ``'LnResistivity'``: $\\log_e(\\rho)$;\n- ``'Conductivity'``: $\\sigma$ (S/m);\n- ``'LgConductivity'``: $\\log_{10}(\\sigma)$;\n- ``'LnConductivity'``: $\\log_e(\\sigma)$.\n\nWe take here the model from\n`sphx_glr_gallery_tutorials_total_vs_ps_field.py` and map it once as\n``'LgResistivity'`` and once as ``'LgConductivity'``, and verify that the\nresulting electric field is the same.\n"
      ]
    },
    {
      "cell_type": "code",
      "execution_count": null,
      "metadata": {
        "collapsed": false
      },
      "outputs": [],
      "source": [
        "import emg3d\nimport numpy as np\nimport matplotlib.pyplot as plt\nplt.style.use('bmh')"
      ]
    },
    {
      "cell_type": "markdown",
      "metadata": {},
      "source": [
        "## Survey\n\n"
      ]
    },
    {
      "cell_type": "code",
      "execution_count": null,
      "metadata": {
        "collapsed": false
      },
      "outputs": [],
      "source": [
        "src = [0, 0, -1950, 0, 0]   # x-dir. source at the origin, 50 m above seafloor\noff = np.arange(5, 81)*100  # Offsets\nrec = [off, off*0, -2000]   # In-line receivers on the seafloor\nres = [0.3, 1]              # 1D resistivities (Ohm.m): [water, background]\nfreq = 1.0                  # Frequency (Hz)"
      ]
    },
    {
      "cell_type": "markdown",
      "metadata": {},
      "source": [
        "## Mesh\n\nWe create quite a coarse grid (100 m minimum cell width), to have reasonable\nfast computation times.\n\n"
      ]
    },
    {
      "cell_type": "code",
      "execution_count": null,
      "metadata": {
        "collapsed": false
      },
      "outputs": [],
      "source": [
        "grid = emg3d.construct_mesh(\n        frequency=freq,\n        min_width_limits=100.0,\n        properties=[res[0], res[1], res[1], res[0]],\n        center=(src[0], src[1], -2000),\n        domain=([-100, 8100], [-500, 500], [-3500, -1500]),\n        center_on_edge=True,\n        verb=0,\n)\ngrid"
      ]
    },
    {
      "cell_type": "markdown",
      "metadata": {},
      "source": [
        "## Define resistivities\n\n"
      ]
    },
    {
      "cell_type": "code",
      "execution_count": null,
      "metadata": {
        "collapsed": false
      },
      "outputs": [],
      "source": [
        "# Layered_background\nres_x = np.ones(grid.n_cells)*res[0]            # Water resistivity\nres_x[grid.cell_centers[:, 2] < -2000] = res[1]  # Background resistivity\n\n# Include the target\nxx = (grid.cell_centers[:, 0] >= 0) & (grid.cell_centers[:, 0] <= 6000)\nyy = abs(grid.cell_centers[:, 1]) <= 500\nzz = (grid.cell_centers[:, 2] > -3500)*(grid.cell_centers[:, 2] < -3000)\n\nres_x[xx*yy*zz] = 100.  # Target resistivity"
      ]
    },
    {
      "cell_type": "markdown",
      "metadata": {},
      "source": [
        "## Create ``LgResistivity`` and ``LgConductivity`` models\n\n"
      ]
    },
    {
      "cell_type": "code",
      "execution_count": null,
      "metadata": {
        "collapsed": false
      },
      "outputs": [],
      "source": [
        "# Create log10-res model\nmodel_lg_res = emg3d.Model(\n        grid, property_x=np.log10(res_x), mapping='LgResistivity')\n\n# Create log10-con model\nmodel_lg_con = emg3d.Model(\n        grid, property_x=np.log10(1/res_x), mapping='LgConductivity')\n\n# Plot the models\nfig, axs = plt.subplots(1, 2, figsize=(9, 6), constrained_layout=True)\n\n# log10-res\nf0 = grid.plot_slice(model_lg_res.property_x, v_type='CC',\n                     normal='Y', ax=axs[0], clim=[-2, 2])\naxs[0].set_title('Resistivity (Ohm.m); log10-scale')\naxs[0].set_xlim([-1000, 8000])\naxs[0].set_ylim([-4000, -1500])\n\n# log10-con\nf1 = grid.plot_slice(model_lg_con.property_x, v_type='CC',\n                     normal='Y', ax=axs[1], clim=[-2, 2])\naxs[1].set_title('Conductivity (S/m); log10-scale')\naxs[1].set_xlim([-1000, 8000])\naxs[1].set_ylim([-4000, -1500])\n\nfig.colorbar(f0[0], ax=axs, orientation='horizontal', fraction=0.1)"
      ]
    },
    {
      "cell_type": "markdown",
      "metadata": {},
      "source": [
        "## Compute electric fields\n\n"
      ]
    },
    {
      "cell_type": "code",
      "execution_count": null,
      "metadata": {
        "collapsed": false
      },
      "outputs": [],
      "source": [
        "source = emg3d.TxElectricDipole(coordinates=src)\nsolver_opts = {\n    'source': source,\n    'frequency': freq,\n    'verb': 1,\n}\n\nefield_lg_res = emg3d.solve_source(model_lg_res, **solver_opts)\nefield_lg_con = emg3d.solve_source(model_lg_con, **solver_opts)\n\n# Extract responses at receiver locations.\nrec_lg_res = efield_lg_res.get_receiver((*rec, 0, 0))\nrec_lg_con = efield_lg_con.get_receiver((*rec, 0, 0))"
      ]
    },
    {
      "cell_type": "markdown",
      "metadata": {},
      "source": [
        "## Compare the two results\n\n"
      ]
    },
    {
      "cell_type": "code",
      "execution_count": null,
      "metadata": {
        "collapsed": false
      },
      "outputs": [],
      "source": [
        "fig, ax = plt.subplots(1, 1, constrained_layout=True)\nfig.suptitle('Comparison')\n\n# Log_10(resistivity)-model.\nax.plot(off/1e3, rec_lg_res.real, 'C0', label='Real[log10(\u03c1)]-model')\nax.plot(off/1e3, rec_lg_res.imag, 'C1-', label='Imag[log10(\u03c1)]-model')\n\n# Log_10(conductivity)-model.\nax.plot(off/1e3, rec_lg_con.real, 'C2-.', label='Real[log10(\u03c3)]-model')\nax.plot(off/1e3, rec_lg_con.imag, 'C3-.', label='Imag[log10(\u03c3)]-model')\n  \nax.set_xlabel('Offset (km)')\nax.set_ylabel('Ex (V/m)')\nax.set_yscale('symlog', linthresh=1e-17)\nax.legend()"
      ]
    },
    {
      "cell_type": "code",
      "execution_count": null,
      "metadata": {
        "collapsed": false
      },
      "outputs": [],
      "source": [
        "emg3d.Report()"
      ]
    }
  ],
  "metadata": {
    "kernelspec": {
      "display_name": "Python 3",
      "language": "python",
      "name": "python3"
    },
    "language_info": {
      "codemirror_mode": {
        "name": "ipython",
        "version": 3
      },
      "file_extension": ".py",
      "mimetype": "text/x-python",
      "name": "python",
      "nbconvert_exporter": "python",
      "pygments_lexer": "ipython3",
      "version": "3.12.4"
    }
  },
  "nbformat": 4,
  "nbformat_minor": 0
}