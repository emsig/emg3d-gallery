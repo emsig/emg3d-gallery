{
  "cells": [
    {
      "cell_type": "code",
      "execution_count": null,
      "metadata": {
        "collapsed": false
      },
      "outputs": [],
      "source": [
        "%matplotlib widget"
      ]
    },
    {
      "cell_type": "markdown",
      "metadata": {},
      "source": [
        "\n# 09. Transient CSEM\n\nThe computation of ``emg3d`` happens in the frequency domain (or Laplace\ndomain), each frequency requires a new computation. Using (inverse) Fourier\ntransforms, we can also compute time-domain (transient) CSEM data with\n``emg3d``. This is not (yet) implemented in easy, user-friendly functions. It\ndoes require quite some input and knowledge from the user, particularly with\nregards to the gridding.\n\nA good starting point to model time-domain data with ``emg3d`` is [WeMS21]_.\nYou can find the paper and all the notebooks in the repo\nhttps://github.com/emsig/article-TDEM .\n\nThe following is a simple example from the above article, the time-domain\nmodelling of a fullspace. It based on the first example (Figures 3-4) of\n[MuWS08]_.\n\n\n## Interactive frequency selection\n\nThe most important factor in fast time-domain computation is the frequency\nselection. You can find an interactive GUI for this in the repo\nhttps://github.com/emsig/frequency-selection .\n\nA screenshot of the GUI for the interactive frequency selection is shown in the\nfollowing figure:\n\n.. figure:: ../../_static/images/GUI-freqselect.png\n   :scale: 66 %\n   :align: center\n   :alt: Frequency-selection App\n   :name: freqselect\n\n\nThe GUI uses the 1D modeller ``empymod`` for a layered model, and internally\nthe ``Fourier`` class of the 3D modeller ``emg3d``. The following parameters\ncan be specified interactively:\n\n- points per decade\n- frequency range (min/max)\n- offset\n- Fourier transform (FFTLog or DLF with different filters)\n- signal (impulse or switch-on/-off)\n\nOther parameters have to be specified fix when initiating the widget.\n"
      ]
    },
    {
      "cell_type": "code",
      "execution_count": null,
      "metadata": {
        "collapsed": false
      },
      "outputs": [],
      "source": [
        "import emg3d\nimport empymod\nimport numpy as np\nimport matplotlib.pyplot as plt\nplt.style.use('bmh')"
      ]
    },
    {
      "cell_type": "markdown",
      "metadata": {},
      "source": [
        "## Model and Survey\n\n### Model\n\n- Homogeneous fullspace of 1 Ohm.m.\n\n### Survey\n- Source at origin.\n- Receiver at an inline-offset of 900 m.\n- Both source and receiver are x-directed electric dipoles.\n\n"
      ]
    },
    {
      "cell_type": "code",
      "execution_count": null,
      "metadata": {
        "collapsed": false
      },
      "outputs": [],
      "source": [
        "src_coo = [0, 0, 0, 0, 0]\nsource = emg3d.TxElectricDipole(src_coo)\nrec_coo = [900, 0, 0, 0, 0]\nresistivity = 1                  # Fullspace resistivity\ndepth = []"
      ]
    },
    {
      "cell_type": "markdown",
      "metadata": {},
      "source": [
        "## Fourier Transforms parameters\n\nWe only compute frequencies $0.05 < f < 21$ Hz, which yields enough\nprecision for our purpose.\n\nThis means, instead of 30 frequencies from 0.0002 - 126.4 Hz, we only need 14\nfrequencies from 0.05 - 20.0 Hz.\n\n"
      ]
    },
    {
      "cell_type": "code",
      "execution_count": null,
      "metadata": {
        "collapsed": false
      },
      "outputs": [],
      "source": [
        "# Define desired times.\ntime = np.logspace(-2, 1, 201)\n\n# Initiate a Fourier instance\nFourier = emg3d.Fourier(\n    time=time,\n    fmin=0.05,\n    fmax=21,\n    ft='fftlog',  # Fourier transform to use\n    ftarg={'pts_per_dec': 5, 'add_dec': [-2, 1], 'q': 0},\n)\n\n# Dense frequencies for comparison reasons\nfreq_dense = np.logspace(\n    np.log10(Fourier.freq_required.min()),\n    np.log10(Fourier.freq_required.max()),\n    301,\n)"
      ]
    },
    {
      "cell_type": "markdown",
      "metadata": {},
      "source": [
        "## Frequency-domain computation\n\n"
      ]
    },
    {
      "cell_type": "code",
      "execution_count": null,
      "metadata": {
        "collapsed": false
      },
      "outputs": [],
      "source": [
        "# Automatic gridding settings.\ngrid_opts = {\n    'center': src_coo[:3],           # Source location\n    'domain': [[-200, 1100], [-50, 50], [-50, 50]],\n    'properties': resistivity,       # Fullspace resistivity.\n    'min_width_limits': [20., 40.],  # Restrict cell width within survey domain\n    'min_width_pps': 12,             # Many points to have small min cell width\n    'stretching': [1, 1.3],          # <alpha improves result, slows down comp\n    'lambda_from_center': True,      # 2 lambda from src to boundary and back\n    'center_on_edge': False,\n}\n\n# Initiate data array and log dict.\ndata = np.zeros(Fourier.freq_compute.size, dtype=complex)\nlog = {}\n\n# Loop over frequencies, going from high to low.\nfor fi, freq in enumerate(Fourier.freq_compute[::-1]):\n    print(f\"  {fi+1:2}/{Fourier.freq_compute.size} :: {freq:10.6f} Hz\",\n          end='\\r')\n\n    # Construct mesh and model.\n    grid = emg3d.meshes.construct_mesh(frequency=freq, **grid_opts)\n    model = emg3d.Model(grid, property_x=resistivity)\n\n    # Interpolate the starting electric field from the last one (can speed-up\n    # the computation).\n    if fi == 0:\n        efield = emg3d.Field(grid, frequency=freq)\n    else:\n        efield = efield.interpolate_to_grid(grid)\n\n    # Solve the system.\n    info = emg3d.solve_source(\n        model, source, freq, efield=efield, verb=0,\n        return_info=True, tol=1e-6/freq,  # f-dep. tolerance\n    )\n\n    # Store response at receivers.\n    data[-fi-1] = efield.get_receiver(rec_coo)\n\n    # Store some info in the log.\n    log[str(int(freq*1e6))] = {\n        'freq': freq,\n        'nC': grid.nC,\n        'stretching': max(\n            np.r_[grid.h[0][1:]/grid.h[0][:-1], grid.h[0][:-1]/grid.h[0][1:],\n                  grid.h[1][1:]/grid.h[1][:-1], grid.h[1][:-1]/grid.h[1][1:],\n                  grid.h[2][1:]/grid.h[2][:-1], grid.h[2][:-1]/grid.h[2][1:]]\n        ),\n        'dminmax': [np.min(np.r_[grid.h[0], grid.h[1], grid.h[2]]),\n                    np.max(np.r_[grid.h[0], grid.h[1], grid.h[2]])],\n        'info': info,\n    }\n\n    # Store the grid for the interpolation.\n    old_grid = grid"
      ]
    },
    {
      "cell_type": "code",
      "execution_count": null,
      "metadata": {
        "collapsed": false
      },
      "outputs": [],
      "source": [
        "runtime = 0\nfor freq in Fourier.freq_compute[::-1]:\n    value = log[str(int(freq*1e6))]\n    print(f\"  {value['freq']:7.3f} Hz: {value['info']['it_mg']:2g}/\"\n          f\"{value['info']['it_ssl']:g} it; \"\n          f\"{value['info']['time']:4.0f} s; \"\n          f\"max_a: {value['stretching']:.2f}; \"\n          f\"nC: {value['nC']:8,.0f}; \"\n          f\"h: {value['dminmax'][0]:5.0f} / {value['dminmax'][1]:7.0f}\")\n    runtime += value['info']['time']\n\nprint(f\"\\n                **** TOTAL RUNTIME :: {runtime // 60:.0f} min \"\n      f\"{runtime % 60:.1f} s ****\\n\")"
      ]
    },
    {
      "cell_type": "markdown",
      "metadata": {},
      "source": [
        "## Frequency domain\n\nCompute analytical result and interpolate missing responses\n\n"
      ]
    },
    {
      "cell_type": "code",
      "execution_count": null,
      "metadata": {
        "collapsed": false
      },
      "outputs": [],
      "source": [
        "data_int = Fourier.interpolate(data)\n\n# Compute analytical result using empymod\nepm_req = empymod.bipole(src_coo, rec_coo, depth, resistivity,\n                         Fourier.freq_required, verb=1)\nepm_dense = empymod.bipole(src_coo, rec_coo, depth, resistivity,\n                           freq_dense, verb=1)\n\n# Compute error\nerr = np.clip(100*abs((data_int.imag-epm_req.imag)/epm_req.imag), 0.1, 100)"
      ]
    },
    {
      "cell_type": "markdown",
      "metadata": {},
      "source": [
        "## Time domain\n\nDo the transform and compute analytical result.\n\n"
      ]
    },
    {
      "cell_type": "code",
      "execution_count": null,
      "metadata": {
        "collapsed": false
      },
      "outputs": [],
      "source": [
        "# Compute corresponding time-domain signal.\ndata_time = Fourier.freq2time(data, rec_coo[0])\n\n# Analytical result\nepm_time = empymod.analytical(src_coo[:3], rec_coo[:3], resistivity, time,\n                              solution='dfs', signal=0, verb=1)\n\n# Relative error and peak error\nerr_egd = 100*abs((data_time-epm_time)/epm_time)"
      ]
    },
    {
      "cell_type": "markdown",
      "metadata": {},
      "source": [
        "### Plot it\n\n"
      ]
    },
    {
      "cell_type": "code",
      "execution_count": null,
      "metadata": {
        "collapsed": false
      },
      "outputs": [],
      "source": [
        "plt.figure(figsize=(9, 5), constrained_layout=True)\n\n# Frequency-domain, imaginary, log-log\nax1 = plt.subplot2grid((4, 2), (0, 0), rowspan=3)\nplt.title('(a) frequency domain')\nplt.plot(freq_dense, 1e9*abs(epm_dense.imag), 'C3', label='analytical')\nplt.plot(Fourier.freq_compute, 1e9*abs(data.imag), 'C0o', label='computed')\nplt.plot(Fourier.freq_required[~Fourier.ifreq_compute],\n         1e9*abs(data_int[~Fourier.ifreq_compute].imag), 'k.',\n         label='interpolated / 0')\nplt.ylabel(r'$|\\Im\\{E_x\\}|$ (nV/m)')\nplt.xscale('log')\nplt.yscale('symlog', linthresh=5e-9)\nplt.ylim([-1e-9, 5e-1])\nax1.set_xticklabels([])\nplt.legend()\nplt.grid(axis='y', c='0.9')\n\n# Frequency-domain, imaginary, error\nax2 = plt.subplot2grid((4, 2), (3, 0))\nplt.plot(Fourier.freq_required, err, '.4')\nplt.plot(Fourier.freq_required[~Fourier.ifreq_compute],\n         err[~Fourier.ifreq_compute], 'k.')\nplt.plot(Fourier.freq_compute, err[Fourier.ifreq_compute], 'C0o')\nplt.axhline(1, color='0.4', zorder=1)\n\nplt.xscale('log')\nplt.yscale('log')\nplt.xlabel('Frequency (Hz)')\nplt.ylabel('Rel. error %')\nplt.ylim([8e-3, 120])\nplt.yticks([0.01, 0.1, 1, 10, 100], ('0.01', '0.1', '1', '10', '100'))\nplt.grid(axis='y', c='0.9')\n\n\n# Time-domain\nax3 = plt.subplot2grid((4, 2), (0, 1), rowspan=3)\nplt.title('(b) time domain')\nplt.plot(time, epm_time*1e9, 'C3', lw=2, label='analytical')\nplt.plot(time, data_time*1e9, 'k--', label='transformed')\nplt.xlim([0, 2])\nplt.ylabel('$E_x$ (nV/m)')\nax3.set_xticklabels([])\nplt.legend()\nax3.yaxis.tick_right()\nax3.yaxis.set_label_position(\"right\")\nplt.grid(axis='y', c='0.9')\n\n# Time-domain, error\nax4 = plt.subplot2grid((4, 2), (3, 1))\nplt.plot(time, err_egd, 'k')\nplt.axhline(1, color='0.4', zorder=1)\n\nplt.yscale('log')\nplt.xlabel('Time (s)')\nplt.ylabel('Rel. error %')\nplt.xlim([0, 2])\nplt.ylim([8e-3, 120])\nplt.yticks([0.01, 0.1, 1, 10, 100], ('0.01', '0.1', '1', '10', '100'))\nax4.yaxis.tick_right()\nax4.yaxis.set_label_position(\"right\")\nplt.grid(axis='y', c='0.9')"
      ]
    },
    {
      "cell_type": "code",
      "execution_count": null,
      "metadata": {
        "collapsed": false
      },
      "outputs": [],
      "source": [
        "emg3d.Report()"
      ]
    }
  ],
  "metadata": {
    "kernelspec": {
      "display_name": "Python 3",
      "language": "python",
      "name": "python3"
    },
    "language_info": {
      "codemirror_mode": {
        "name": "ipython",
        "version": 3
      },
      "file_extension": ".py",
      "mimetype": "text/x-python",
      "name": "python",
      "nbconvert_exporter": "python",
      "pygments_lexer": "ipython3",
      "version": "3.12.4"
    }
  },
  "nbformat": 4,
  "nbformat_minor": 0
}